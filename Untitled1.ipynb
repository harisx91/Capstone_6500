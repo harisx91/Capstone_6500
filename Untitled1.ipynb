{
 "cells": [
  {
   "cell_type": "code",
   "execution_count": 1,
   "id": "734098b4",
   "metadata": {},
   "outputs": [
    {
     "ename": "AttributeError",
     "evalue": "partially initialized module 'yfinance' has no attribute 'Ticker' (most likely due to a circular import)",
     "output_type": "error",
     "traceback": [
      "\u001b[0;31m---------------------------------------------------------------------------\u001b[0m",
      "\u001b[0;31mAttributeError\u001b[0m                            Traceback (most recent call last)",
      "Cell \u001b[0;32mIn[1], line 2\u001b[0m\n\u001b[1;32m      1\u001b[0m \u001b[38;5;28;01mimport\u001b[39;00m \u001b[38;5;21;01msqlite3\u001b[39;00m\n\u001b[0;32m----> 2\u001b[0m \u001b[38;5;28;01mimport\u001b[39;00m \u001b[38;5;21;01myfinance\u001b[39;00m \u001b[38;5;28;01mas\u001b[39;00m \u001b[38;5;21;01myf\u001b[39;00m\n",
      "File \u001b[0;32m~/Documents/Intro_Computer_Science/Capstone_6500/yfinance.py:49\u001b[0m\n\u001b[1;32m     46\u001b[0m     \u001b[38;5;28;01mreturn\u001b[39;00m total_value\n\u001b[1;32m     48\u001b[0m \u001b[38;5;66;03m# sample usage\u001b[39;00m\n\u001b[0;32m---> 49\u001b[0m \u001b[43madd_stock\u001b[49m\u001b[43m(\u001b[49m\u001b[38;5;124;43m'\u001b[39;49m\u001b[38;5;124;43mAAPL\u001b[39;49m\u001b[38;5;124;43m'\u001b[39;49m\u001b[43m,\u001b[49m\u001b[43m \u001b[49m\u001b[38;5;241;43m100\u001b[39;49m\u001b[43m,\u001b[49m\u001b[43m \u001b[49m\u001b[38;5;241;43m150\u001b[39;49m\u001b[43m)\u001b[49m\n\u001b[1;32m     50\u001b[0m update_stock(\u001b[38;5;124m'\u001b[39m\u001b[38;5;124mAAPL\u001b[39m\u001b[38;5;124m'\u001b[39m, \u001b[38;5;241m150\u001b[39m, \u001b[38;5;241m170\u001b[39m)\n\u001b[1;32m     51\u001b[0m delete_stock(\u001b[38;5;124m'\u001b[39m\u001b[38;5;124mAAPL\u001b[39m\u001b[38;5;124m'\u001b[39m)\n",
      "File \u001b[0;32m~/Documents/Intro_Computer_Science/Capstone_6500/yfinance.py:16\u001b[0m, in \u001b[0;36madd_stock\u001b[0;34m(symbol, shares, purchase_price)\u001b[0m\n\u001b[1;32m     15\u001b[0m \u001b[38;5;28;01mdef\u001b[39;00m \u001b[38;5;21madd_stock\u001b[39m(symbol, shares, purchase_price):\n\u001b[0;32m---> 16\u001b[0m     stock \u001b[38;5;241m=\u001b[39m \u001b[43myf\u001b[49m\u001b[38;5;241;43m.\u001b[39;49m\u001b[43mTicker\u001b[49m(symbol)\n\u001b[1;32m     17\u001b[0m     name \u001b[38;5;241m=\u001b[39m stock\u001b[38;5;241m.\u001b[39minfo[\u001b[38;5;124m'\u001b[39m\u001b[38;5;124mshortName\u001b[39m\u001b[38;5;124m'\u001b[39m]\n\u001b[1;32m     18\u001b[0m     current_price \u001b[38;5;241m=\u001b[39m stock\u001b[38;5;241m.\u001b[39minfo[\u001b[38;5;124m'\u001b[39m\u001b[38;5;124mregularMarketPrice\u001b[39m\u001b[38;5;124m'\u001b[39m]\n",
      "\u001b[0;31mAttributeError\u001b[0m: partially initialized module 'yfinance' has no attribute 'Ticker' (most likely due to a circular import)"
     ]
    }
   ],
   "source": [
    "import sqlite3\n",
    "import yfinance as yf"
   ]
  },
  {
   "cell_type": "code",
   "execution_count": 5,
   "id": "38d96a90",
   "metadata": {},
   "outputs": [
    {
     "ename": "AttributeError",
     "evalue": "partially initialized module 'yfinance' has no attribute 'Ticker' (most likely due to a circular import)",
     "output_type": "error",
     "traceback": [
      "\u001b[0;31m---------------------------------------------------------------------------\u001b[0m",
      "\u001b[0;31mAttributeError\u001b[0m                            Traceback (most recent call last)",
      "Cell \u001b[0;32mIn[5], line 2\u001b[0m\n\u001b[1;32m      1\u001b[0m \u001b[38;5;28;01mimport\u001b[39;00m \u001b[38;5;21;01msqlite3\u001b[39;00m\n\u001b[0;32m----> 2\u001b[0m \u001b[38;5;28;01mimport\u001b[39;00m \u001b[38;5;21;01myfinance\u001b[39;00m \u001b[38;5;28;01mas\u001b[39;00m \u001b[38;5;21;01myf\u001b[39;00m\n\u001b[1;32m      4\u001b[0m \u001b[38;5;66;03m# create a connection to the database\u001b[39;00m\n\u001b[1;32m      5\u001b[0m conn \u001b[38;5;241m=\u001b[39m sqlite3\u001b[38;5;241m.\u001b[39mconnect(\u001b[38;5;124m'\u001b[39m\u001b[38;5;124mportfolio.db\u001b[39m\u001b[38;5;124m'\u001b[39m)\n",
      "File \u001b[0;32m~/Documents/Intro_Computer_Science/Capstone_6500/yfinance.py:49\u001b[0m\n\u001b[1;32m     46\u001b[0m     \u001b[38;5;28;01mreturn\u001b[39;00m total_value\n\u001b[1;32m     48\u001b[0m \u001b[38;5;66;03m# sample usage\u001b[39;00m\n\u001b[0;32m---> 49\u001b[0m \u001b[43madd_stock\u001b[49m\u001b[43m(\u001b[49m\u001b[38;5;124;43m'\u001b[39;49m\u001b[38;5;124;43mAAPL\u001b[39;49m\u001b[38;5;124;43m'\u001b[39;49m\u001b[43m,\u001b[49m\u001b[43m \u001b[49m\u001b[38;5;241;43m100\u001b[39;49m\u001b[43m,\u001b[49m\u001b[43m \u001b[49m\u001b[38;5;241;43m150\u001b[39;49m\u001b[43m)\u001b[49m\n\u001b[1;32m     50\u001b[0m update_stock(\u001b[38;5;124m'\u001b[39m\u001b[38;5;124mAAPL\u001b[39m\u001b[38;5;124m'\u001b[39m, \u001b[38;5;241m150\u001b[39m, \u001b[38;5;241m170\u001b[39m)\n\u001b[1;32m     51\u001b[0m delete_stock(\u001b[38;5;124m'\u001b[39m\u001b[38;5;124mAAPL\u001b[39m\u001b[38;5;124m'\u001b[39m)\n",
      "File \u001b[0;32m~/Documents/Intro_Computer_Science/Capstone_6500/yfinance.py:16\u001b[0m, in \u001b[0;36madd_stock\u001b[0;34m(symbol, shares, purchase_price)\u001b[0m\n\u001b[1;32m     15\u001b[0m \u001b[38;5;28;01mdef\u001b[39;00m \u001b[38;5;21madd_stock\u001b[39m(symbol, shares, purchase_price):\n\u001b[0;32m---> 16\u001b[0m     stock \u001b[38;5;241m=\u001b[39m \u001b[43myf\u001b[49m\u001b[38;5;241;43m.\u001b[39;49m\u001b[43mTicker\u001b[49m(symbol)\n\u001b[1;32m     17\u001b[0m     name \u001b[38;5;241m=\u001b[39m stock\u001b[38;5;241m.\u001b[39minfo[\u001b[38;5;124m'\u001b[39m\u001b[38;5;124mshortName\u001b[39m\u001b[38;5;124m'\u001b[39m]\n\u001b[1;32m     18\u001b[0m     current_price \u001b[38;5;241m=\u001b[39m stock\u001b[38;5;241m.\u001b[39minfo[\u001b[38;5;124m'\u001b[39m\u001b[38;5;124mregularMarketPrice\u001b[39m\u001b[38;5;124m'\u001b[39m]\n",
      "\u001b[0;31mAttributeError\u001b[0m: partially initialized module 'yfinance' has no attribute 'Ticker' (most likely due to a circular import)"
     ]
    }
   ],
   "source": [
    "import sqlite3\n",
    "import yfinance as yf\n",
    "\n",
    "# create a connection to the database\n",
    "conn = sqlite3.connect('portfolio.db')\n",
    "\n",
    "# create a cursor object\n",
    "c = conn.cursor()\n",
    "\n",
    "# create a table to store stock data\n",
    "c.execute('''CREATE TABLE IF NOT EXISTS stocks\n",
    "             (symbol TEXT, name TEXT, shares INTEGER, purchase_price REAL, current_price REAL)''')\n",
    "\n",
    "# function to add a new stock to the portfolio\n",
    "def add_stock(symbol, shares, purchase_price):\n",
    "    stock = yf.Ticker(symbol)\n",
    "    name = stock.info['shortName']\n",
    "    current_price = stock.info['regularMarketPrice']\n",
    "    c.execute('''INSERT INTO stocks (symbol, name, shares, purchase_price, current_price)\n",
    "                 VALUES (?, ?, ?, ?, ?)''', (symbol, name, shares, purchase_price, current_price))\n",
    "    conn.commit()\n",
    "    print('Stock added successfully')\n",
    "\n",
    "# function to update a stock in the portfolio\n",
    "def update_stock(symbol, shares, purchase_price):\n",
    "    stock = yf.Ticker(symbol)\n",
    "    name = stock.info['shortName']\n",
    "    current_price = stock.info['regularMarketPrice']\n",
    "    c.execute('''UPDATE stocks\n",
    "                 SET name = ?, shares = ?, purchase_price = ?, current_price = ?\n",
    "                 WHERE symbol = ?''', (name, shares, purchase_price, current_price, symbol))\n",
    "    conn.commit()\n",
    "    print('Stock updated successfully')\n",
    "\n",
    "# function to delete a stock from the portfolio\n",
    "def delete_stock(symbol):\n",
    "    c.execute('''DELETE FROM stocks WHERE symbol = ?''', (symbol,))\n",
    "    conn.commit()\n",
    "    print('Stock deleted successfully')\n",
    "\n",
    "# function to get the current value of the portfolio\n",
    "def get_portfolio_value():\n",
    "    total_value = 0\n",
    "    for row in c.execute('SELECT * FROM stocks'):\n",
    "        total_value += row[2] * row[4]\n",
    "    return total_value\n",
    "\n",
    "# sample usage\n",
    "add_stock('AAPL', 100, 150)\n",
    "update_stock('AAPL', 150, 170)\n",
    "delete_stock('AAPL')\n",
    "print('Portfolio value:', get_portfolio_value())\n"
   ]
  },
  {
   "cell_type": "code",
   "execution_count": null,
   "id": "9f8a1890",
   "metadata": {},
   "outputs": [],
   "source": []
  }
 ],
 "metadata": {
  "kernelspec": {
   "display_name": "Python 3.8.9 64-bit",
   "language": "python",
   "name": "python3"
  },
  "language_info": {
   "codemirror_mode": {
    "name": "ipython",
    "version": 3
   },
   "file_extension": ".py",
   "mimetype": "text/x-python",
   "name": "python",
   "nbconvert_exporter": "python",
   "pygments_lexer": "ipython3",
   "version": "3.8.9"
  },
  "vscode": {
   "interpreter": {
    "hash": "31f2aee4e71d21fbe5cf8b01ff0e069b9275f58929596ceb00d14d90e3e16cd6"
   }
  }
 },
 "nbformat": 4,
 "nbformat_minor": 5
}
