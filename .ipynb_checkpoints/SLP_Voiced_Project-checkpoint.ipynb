{
 "cells": [
  {
   "cell_type": "markdown",
   "id": "1deae17e",
   "metadata": {},
   "source": [
    "\n",
    "Link: https://physionet.org/content/voiced/1.0.0/\n",
    "\n",
    "https://wfdb.readthedocs.io/en/latest/wfdb.html#wfdb.rdsamp\n",
    "\n",
    "https://www.nature.com/articles/s41598-023-34461-9#Bib1\n",
    "\n",
    "\n",
    "What is Dysphonia? Dysphonia is an alteration of the sound structure of the voice, due to structural or funcational changes of one or more organce involved in voive production. "
   ]
  },
  {
   "cell_type": "markdown",
   "id": "b8ec9066",
   "metadata": {},
   "source": [
    "## VOICED Database Capstone Research\n",
    "The VOICED (Voice Disorder Database) is a comprehensive collection of voice samples designed to facilitate the study of voice disorders. The database is publicly available on PhysioNet and contains a significant number of voice samples from both pathological and healthy subjects.\n",
    "\n",
    "### Database Composition\n",
    "The VOICED database is a rich resource that includes a total of 208 voice samples. It encompasses recordings from 150 individuals with voice pathologies and 58 from healthy voices. This diverse collection allows for a broad analysis of voice characteristics across different health statuses.\n",
    "\n",
    "### Demographic and Clinical Information\n",
    "In addition to voice samples, the database provides detailed demographic and clinical information. This includes the gender, age, and pathology of the participants, as well as lifestyle factors such as smoking, alcohol, and coffee consumption. Occupational status is also documented. Such comprehensive data can help researchers identify patterns and correlations between these variables and voice disorders.\n",
    "\n",
    "### Participant Criteria\n",
    "The study that contributed to the VOICED database had specific inclusion criteria. Participants were required to be adults, aged between 18 and 70 years, and capable of following the study protocol. This age range ensures that the database covers a wide spectrum of adult voices.\n",
    "\n",
    "### Recording Methodology\n",
    "Voice samples in the VOICED database were captured using Vox4Health, an m-health system. This system is designed to record voice signals in real-time using the microphone of a mobile device, ensuring that the recordings are easily accessible and can be made in various settings.\n",
    "\n",
    "### Technical Specifications\n",
    "The technical quality of the voice recordings is maintained at a high standard. All samples in the database were recorded with a sampling rate of 8000 Hz and a resolution of 32-bit. These specifications ensure that the recordings are of sufficient quality for detailed analysis.\n",
    "\n",
    "### Data Format\n",
    "The VOICED database provides the voice recordings in two formats: the WFDB format and text format. The WFDB format is particularly useful for researchers familiar with PhysioNet's tools, as it allows for easy manipulation and analysis of the data.\n",
    "\n",
    "### Recording Environment\n",
    "To ensure consistency and quality of the voice samples, all recordings were made in a controlled environment. The room was kept quiet, with less than 30 dB of background noise, and had a humidity level between 30-40% . Such conditions help to minimize external factors that could affect the voice recordings.\n",
    "\n",
    "## Conclusion:\n",
    "The VOICED database is a valuable resource for researchers interested in voice disorders. It provides a wealth of high-quality voice samples along with extensive demographic and clinical information, all of which are essential for a thorough analysis of voice health and pathology."
   ]
  },
  {
   "cell_type": "code",
   "execution_count": 106,
   "id": "86d945f1",
   "metadata": {},
   "outputs": [],
   "source": [
    "##!pip install wget"
   ]
  },
  {
   "cell_type": "code",
   "execution_count": 2,
   "id": "d2044a4a",
   "metadata": {},
   "outputs": [],
   "source": [
    "import wget"
   ]
  },
  {
   "cell_type": "code",
   "execution_count": 4,
   "id": "5ce24aca",
   "metadata": {},
   "outputs": [
    {
     "name": "stdout",
     "output_type": "stream",
     "text": [
      "Download records file.\n",
      "100% [............................................................] 1871 / 1871"
     ]
    },
    {
     "data": {
      "text/plain": [
       "'./Database/RECORDS'"
      ]
     },
     "execution_count": 4,
     "metadata": {},
     "output_type": "execute_result"
    }
   ],
   "source": [
    "url= 'https://physionet.org/physiobank/database/voiced/'\n",
    "fileDownloadLocation = './Database/'\n",
    "filename = 'RECORDS'\n",
    "print('Download records file.')\n",
    "wget.download(url+filename, fileDownloadLocation+filename)"
   ]
  },
  {
   "cell_type": "code",
   "execution_count": 5,
   "id": "9e8dd56e",
   "metadata": {},
   "outputs": [],
   "source": [
    "# Open record file    \n",
    "fileHandler = open (fileDownloadLocation+filename, \"r\")\n",
    "# Get list of all lines in file\n",
    "listOfLines = fileHandler.readlines()\n",
    "# Close file \n",
    "fileHandler.close()"
   ]
  },
  {
   "cell_type": "code",
   "execution_count": 6,
   "id": "c3edbca2",
   "metadata": {},
   "outputs": [
    {
     "name": "stdout",
     "output_type": "stream",
     "text": [
      "First file: voice001\n",
      "\n",
      "Last file: voice208\n"
     ]
    }
   ],
   "source": [
    "print('First file:',listOfLines[0])\n",
    "print('Last file:',listOfLines[len(listOfLines)-1])"
   ]
  },
  {
   "cell_type": "code",
   "execution_count": 7,
   "id": "f02fc080",
   "metadata": {},
   "outputs": [
    {
     "name": "stdout",
     "output_type": "stream",
     "text": [
      "Beginning file download.\n",
      "voice001\n",
      "100% [..............................................................] 175 / 175voice002\n",
      "100% [..............................................................] 158 / 158voice003\n",
      "100% [..............................................................] 176 / 176voice004\n",
      "100% [..............................................................] 176 / 176voice005\n",
      "100% [..............................................................] 172 / 172voice006\n",
      "100% [..............................................................] 174 / 174voice007\n",
      "100% [..............................................................] 174 / 174voice008\n",
      "100% [..............................................................] 170 / 170voice009\n",
      "100% [..............................................................] 175 / 175voice010\n",
      "100% [..............................................................] 172 / 172voice011\n",
      "100% [..............................................................] 171 / 171voice012\n",
      "100% [..............................................................] 170 / 170voice013\n",
      "100% [..............................................................] 171 / 171voice014\n",
      "100% [..............................................................] 170 / 170voice015\n",
      "100% [..............................................................] 170 / 170voice016\n",
      "100% [..............................................................] 176 / 176voice017\n",
      "100% [..............................................................] 174 / 174voice018\n",
      "100% [..............................................................] 171 / 171voice019\n",
      "100% [..............................................................] 160 / 160voice020\n",
      "100% [..............................................................] 172 / 172voice021\n",
      "100% [..............................................................] 174 / 174voice022\n",
      "100% [..............................................................] 175 / 175voice023\n",
      "100% [..............................................................] 172 / 172voice024\n",
      "100% [..............................................................] 161 / 161voice025\n",
      "100% [..............................................................] 159 / 159voice026\n",
      "100% [..............................................................] 173 / 173voice027\n",
      "100% [..............................................................] 169 / 169voice028\n",
      "100% [..............................................................] 170 / 170voice029\n",
      "100% [..............................................................] 170 / 170voice030\n",
      "100% [..............................................................] 170 / 170voice031\n",
      "100% [..............................................................] 168 / 168voice032\n",
      "100% [..............................................................] 161 / 161voice033\n",
      "100% [..............................................................] 175 / 175voice034\n",
      "100% [..............................................................] 159 / 159voice035\n",
      "100% [..............................................................] 171 / 171voice036\n",
      "100% [..............................................................] 173 / 173voice037\n",
      "100% [..............................................................] 169 / 169voice038\n",
      "100% [..............................................................] 175 / 175voice039\n",
      "100% [..............................................................] 173 / 173voice040\n",
      "100% [..............................................................] 160 / 160voice041\n",
      "100% [..............................................................] 169 / 169voice042\n",
      "100% [..............................................................] 169 / 169voice043\n",
      "100% [..............................................................] 174 / 174voice044\n",
      "100% [..............................................................] 170 / 170voice045\n",
      "100% [..............................................................] 160 / 160voice046\n",
      "100% [..............................................................] 171 / 171voice047\n",
      "100% [..............................................................] 170 / 170voice048\n",
      "100% [..............................................................] 170 / 170voice049\n",
      "100% [..............................................................] 161 / 161voice050\n",
      "100% [..............................................................] 170 / 170voice051\n",
      "100% [..............................................................] 160 / 160voice052\n",
      "100% [..............................................................] 175 / 175voice053\n",
      "100% [..............................................................] 169 / 169voice054\n",
      "100% [..............................................................] 175 / 175voice055\n",
      "100% [..............................................................] 176 / 176voice056\n",
      "100% [..............................................................] 175 / 175voice057\n",
      "100% [..............................................................] 170 / 170voice058\n",
      "100% [..............................................................] 172 / 172voice059\n",
      "100% [..............................................................] 174 / 174voice060\n",
      "100% [..............................................................] 158 / 158voice061\n",
      "100% [..............................................................] 158 / 158voice062\n",
      "100% [..............................................................] 169 / 169voice063\n",
      "100% [..............................................................] 169 / 169voice064\n",
      "100% [..............................................................] 174 / 174voice065\n",
      "100% [..............................................................] 169 / 169voice066\n",
      "100% [..............................................................] 168 / 168voice067\n",
      "100% [..............................................................] 158 / 158voice068\n",
      "100% [..............................................................] 172 / 172voice069\n",
      "100% [..............................................................] 170 / 170voice070\n",
      "100% [..............................................................] 159 / 159voice071\n",
      "100% [..............................................................] 169 / 169voice072\n",
      "100% [..............................................................] 175 / 175voice073\n",
      "100% [..............................................................] 169 / 169voice074\n",
      "100% [..............................................................] 170 / 170voice075\n",
      "100% [..............................................................] 172 / 172voice076\n",
      "100% [..............................................................] 174 / 174voice077\n",
      "100% [..............................................................] 174 / 174voice078\n",
      "100% [..............................................................] 173 / 173voice079\n",
      "100% [..............................................................] 170 / 170voice080\n",
      "100% [..............................................................] 174 / 174voice081\n",
      "100% [..............................................................] 166 / 166voice082\n",
      "100% [..............................................................] 169 / 169voice083\n",
      "100% [..............................................................] 167 / 167voice084\n",
      "100% [..............................................................] 171 / 171voice085\n",
      "100% [..............................................................] 159 / 159voice086\n",
      "100% [..............................................................] 174 / 174voice087\n",
      "100% [..............................................................] 172 / 172voice088\n",
      "100% [..............................................................] 171 / 171voice089\n",
      "100% [..............................................................] 173 / 173voice090\n",
      "100% [..............................................................] 159 / 159voice091\n",
      "100% [..............................................................] 158 / 158voice092\n",
      "100% [..............................................................] 160 / 160voice093\n"
     ]
    },
    {
     "name": "stdout",
     "output_type": "stream",
     "text": [
      "100% [..............................................................] 172 / 172voice094\n",
      "100% [..............................................................] 174 / 174voice095\n",
      "100% [..............................................................] 159 / 159voice096\n",
      "100% [..............................................................] 158 / 158voice097\n",
      "100% [..............................................................] 158 / 158voice098\n",
      "100% [..............................................................] 160 / 160voice099\n",
      "100% [..............................................................] 159 / 159voice100\n",
      "100% [..............................................................] 158 / 158voice101\n",
      "100% [..............................................................] 158 / 158voice102\n",
      "100% [..............................................................] 157 / 157voice103\n",
      "100% [..............................................................] 160 / 160voice104\n",
      "100% [..............................................................] 158 / 158voice105\n",
      "100% [..............................................................] 173 / 173voice106\n",
      "100% [..............................................................] 172 / 172voice107\n",
      "100% [..............................................................] 160 / 160voice108\n",
      "100% [..............................................................] 156 / 156voice109\n",
      "100% [..............................................................] 159 / 159voice110\n",
      "100% [..............................................................] 159 / 159voice111\n",
      "100% [..............................................................] 159 / 159voice112\n",
      "100% [..............................................................] 172 / 172voice113\n",
      "100% [..............................................................] 175 / 175voice114\n",
      "100% [..............................................................] 158 / 158voice115\n",
      "100% [..............................................................] 159 / 159voice116\n",
      "100% [..............................................................] 171 / 171voice117\n",
      "100% [..............................................................] 175 / 175voice118\n",
      "100% [..............................................................] 173 / 173voice119\n",
      "100% [..............................................................] 175 / 175voice120\n",
      "100% [..............................................................] 145 / 145voice121\n",
      "100% [..............................................................] 173 / 173voice122\n",
      "100% [..............................................................] 174 / 174voice123\n",
      "100% [..............................................................] 160 / 160voice124\n",
      "100% [..............................................................] 173 / 173voice125\n",
      "100% [..............................................................] 159 / 159voice126\n",
      "100% [..............................................................] 174 / 174voice127\n",
      "100% [..............................................................] 168 / 168voice128\n",
      "100% [..............................................................] 174 / 174voice129\n",
      "100% [..............................................................] 175 / 175voice130\n",
      "100% [..............................................................] 173 / 173voice131\n",
      "100% [..............................................................] 174 / 174voice132\n",
      "100% [..............................................................] 175 / 175voice133\n",
      "100% [..............................................................] 169 / 169voice134\n",
      "100% [..............................................................] 159 / 159voice135\n",
      "100% [..............................................................] 171 / 171voice136\n",
      "100% [..............................................................] 173 / 173voice137\n",
      "100% [..............................................................] 173 / 173voice138\n",
      "100% [..............................................................] 171 / 171voice139\n",
      "100% [..............................................................] 158 / 158voice140\n",
      "100% [..............................................................] 174 / 174voice141\n",
      "100% [..............................................................] 170 / 170voice142\n",
      "100% [..............................................................] 174 / 174voice143\n",
      "100% [..............................................................] 172 / 172voice144\n",
      "100% [..............................................................] 173 / 173voice145\n",
      "100% [..............................................................] 175 / 175voice146\n",
      "100% [..............................................................] 174 / 174voice147\n",
      "100% [..............................................................] 173 / 173voice148\n",
      "100% [..............................................................] 172 / 172voice149\n",
      "100% [..............................................................] 175 / 175voice150\n",
      "100% [..............................................................] 174 / 174voice151\n",
      "100% [..............................................................] 169 / 169voice152\n",
      "100% [..............................................................] 173 / 173voice153\n",
      "100% [..............................................................] 175 / 175voice154\n",
      "100% [..............................................................] 169 / 169voice155\n",
      "100% [..............................................................] 172 / 172voice156\n",
      "100% [..............................................................] 171 / 171voice157\n",
      "100% [..............................................................] 172 / 172voice158\n",
      "100% [..............................................................] 160 / 160voice159\n",
      "100% [..............................................................] 172 / 172voice160\n",
      "100% [..............................................................] 175 / 175voice161\n",
      "100% [..............................................................] 159 / 159voice162\n",
      "100% [..............................................................] 174 / 174voice163\n",
      "100% [..............................................................] 171 / 171voice164\n",
      "100% [..............................................................] 172 / 172voice165\n",
      "100% [..............................................................] 170 / 170voice166\n",
      "100% [..............................................................] 162 / 162voice167\n",
      "100% [..............................................................] 173 / 173voice168\n",
      "100% [..............................................................] 172 / 172voice169\n",
      "100% [..............................................................] 172 / 172voice170\n",
      "100% [..............................................................] 173 / 173voice171\n",
      "100% [..............................................................] 171 / 171voice172\n",
      "100% [..............................................................] 175 / 175voice173\n",
      "100% [..............................................................] 175 / 175voice174\n",
      "100% [..............................................................] 173 / 173voice175\n",
      "100% [..............................................................] 174 / 174voice176\n",
      "100% [..............................................................] 158 / 158voice177\n",
      "100% [..............................................................] 160 / 160voice178\n",
      "100% [..............................................................] 160 / 160voice179\n",
      "100% [..............................................................] 157 / 157voice180\n",
      "100% [..............................................................] 160 / 160voice181\n",
      "100% [..............................................................] 158 / 158voice182\n",
      "100% [..............................................................] 159 / 159voice183\n",
      "100% [..............................................................] 160 / 160voice184\n",
      "100% [..............................................................] 157 / 157voice185\n",
      "100% [..............................................................] 174 / 174voice186\n"
     ]
    },
    {
     "name": "stdout",
     "output_type": "stream",
     "text": [
      "100% [..............................................................] 175 / 175voice187\n",
      "100% [..............................................................] 175 / 175voice188\n",
      "100% [..............................................................] 173 / 173voice189\n",
      "100% [..............................................................] 171 / 171voice190\n",
      "100% [..............................................................] 175 / 175voice191\n",
      "100% [..............................................................] 175 / 175voice192\n",
      "100% [..............................................................] 175 / 175voice193\n",
      "100% [..............................................................] 173 / 173voice194\n",
      "100% [..............................................................] 170 / 170voice195\n",
      "100% [..............................................................] 159 / 159voice196\n",
      "100% [..............................................................] 159 / 159voice197\n",
      "100% [..............................................................] 157 / 157voice198\n",
      "100% [..............................................................] 175 / 175voice199\n",
      "100% [..............................................................] 174 / 174voice200\n",
      "100% [..............................................................] 172 / 172voice201\n",
      "100% [..............................................................] 173 / 173voice202\n",
      "100% [..............................................................] 173 / 173voice203\n",
      "100% [..............................................................] 158 / 158voice204\n",
      "100% [..............................................................] 158 / 158voice205\n",
      "100% [..............................................................] 174 / 174voice206\n",
      "100% [..............................................................] 158 / 158voice207\n",
      "100% [..............................................................] 160 / 160voice208\n",
      "100% [..............................................................] 175 / 175Done.\n"
     ]
    }
   ],
   "source": [
    "print('Beginning file download.')\n",
    "for line in listOfLines:\n",
    "    filename = line.strip()\n",
    "    print(filename)\n",
    "    wget.download(url+filename+'.txt', fileDownloadLocation+filename+'.txt')\n",
    "    wget.download(url+filename+'.dat', fileDownloadLocation+filename+'.dat')\n",
    "    wget.download(url+filename+'-info.txt', fileDownloadLocation+filename+'-info.txt')\n",
    "    wget.download(url+filename+'.hea', fileDownloadLocation+filename+'.hea')\n",
    "print('Done.')"
   ]
  },
  {
   "cell_type": "code",
   "execution_count": 14,
   "id": "faa4c3ea",
   "metadata": {},
   "outputs": [],
   "source": [
    "import numpy as np\n",
    "import pandas as pd"
   ]
  },
  {
   "cell_type": "code",
   "execution_count": 17,
   "id": "4c5ce73a",
   "metadata": {},
   "outputs": [],
   "source": [
    "df = pd.DataFrame({'filename': listOfLines})"
   ]
  },
  {
   "cell_type": "code",
   "execution_count": 21,
   "id": "5c293ad2",
   "metadata": {},
   "outputs": [
    {
     "name": "stdout",
     "output_type": "stream",
     "text": [
      "     filename\n",
      "0  voice001\\n\n",
      "1  voice002\\n\n",
      "2  voice003\\n\n",
      "3  voice004\\n\n",
      "4  voice005\\n\n"
     ]
    }
   ],
   "source": [
    "print(df.head(5))"
   ]
  },
  {
   "cell_type": "code",
   "execution_count": 26,
   "id": "00cc4ebb",
   "metadata": {},
   "outputs": [
    {
     "data": {
      "text/plain": [
       "'voice001'"
      ]
     },
     "execution_count": 26,
     "metadata": {},
     "output_type": "execute_result"
    }
   ],
   "source": [
    "first_filename = df['filename'].iloc[0].strip()\n",
    "first_filename"
   ]
  },
  {
   "cell_type": "code",
   "execution_count": 28,
   "id": "a84358e9",
   "metadata": {},
   "outputs": [],
   "source": [
    "import pandas as pd\n",
    "import re\n",
    "import "
   ]
  },
  {
   "cell_type": "markdown",
   "id": "fe766b43",
   "metadata": {},
   "source": [
    "Opening File"
   ]
  },
  {
   "cell_type": "code",
   "execution_count": 29,
   "id": "1171ea3c",
   "metadata": {},
   "outputs": [],
   "source": [
    "# Read record file\n",
    "fileDownloadLocation = './Database/'\n",
    "filename = 'RECORDS'\n",
    "\n",
    "\n",
    "# Open record file    \n",
    "fileHandler = open (fileDownloadLocation+filename, \"r\")\n",
    "# Get list of all lines in file\n",
    "listOfRecords = fileHandler.readlines()\n",
    "# Close file \n",
    "fileHandler.close()"
   ]
  },
  {
   "cell_type": "markdown",
   "id": "204f870b",
   "metadata": {},
   "source": [
    "Creating Features"
   ]
  },
  {
   "cell_type": "code",
   "execution_count": 30,
   "id": "a494dcef",
   "metadata": {},
   "outputs": [],
   "source": [
    "# Create header of features\n",
    "filename = listOfRecords[0].strip()\n",
    "# Open record file    \n",
    "fileHandler = open (fileDownloadLocation+filename+'-info.txt', \"r\")\n",
    "# Get list of all lines in file\n",
    "listOfData = fileHandler.readlines()\n",
    "# Close file \n",
    "fileHandler.close()"
   ]
  },
  {
   "cell_type": "code",
   "execution_count": 31,
   "id": "f3704f2c",
   "metadata": {},
   "outputs": [
    {
     "data": {
      "text/plain": [
       "['ID',\n",
       " '',\n",
       " 'Age',\n",
       " 'Gender',\n",
       " 'Diagnosis',\n",
       " 'Occupation status',\n",
       " '',\n",
       " '',\n",
       " 'Voice Handicap Index (VHI) Score',\n",
       " 'Reflux Symptom Index (RSI) Score',\n",
       " '',\n",
       " '',\n",
       " 'Smoker',\n",
       " 'Number of cigarettes smoked per day',\n",
       " '',\n",
       " 'Alcohol consumption',\n",
       " 'Number of glasses containing alcoholic beverage drinked in a day',\n",
       " \"Amount of water's litres drink every day\",\n",
       " '',\n",
       " 'Eating habits',\n",
       " 'Carbonated beverages',\n",
       " 'Amount of glasses drinked in a day',\n",
       " 'Tomatoes',\n",
       " 'Coffee',\n",
       " 'Number of cups of coffee drinked in a day',\n",
       " 'Chocolate',\n",
       " 'Gramme of chocolate eaten in  a day',\n",
       " 'Soft cheese',\n",
       " 'Gramme of soft cheese eaten in a day',\n",
       " 'Citrus fruits',\n",
       " 'Number of citrus fruits eaten in a day',\n",
       " '']"
      ]
     },
     "execution_count": 31,
     "metadata": {},
     "output_type": "execute_result"
    }
   ],
   "source": [
    "headerList = []\n",
    "for i in range(len(listOfData)):\n",
    "    string = re.split('\\t|,|\\n',listOfData[i])\n",
    "    headerList.append(string[0])\n",
    "headerList.insert(len(headerList)+1,\"\")   \n",
    "# remove : in the string\n",
    "newheaderList = []\n",
    "for element in headerList:\n",
    "    newheaderList.append(element.replace(':', ''))\n",
    "newheaderList"
   ]
  },
  {
   "cell_type": "markdown",
   "id": "69e9e5d2",
   "metadata": {},
   "source": [
    "Building Dataframe"
   ]
  },
  {
   "cell_type": "code",
   "execution_count": 32,
   "id": "fc291890",
   "metadata": {},
   "outputs": [],
   "source": [
    "\n",
    "data = []\n",
    "for line in listOfRecords:\n",
    "    record = line.strip()\n",
    "    #print(record)\n",
    "    filename = record+'-info.txt'\n",
    "    # Open record file    \n",
    "    fileHandler = open (fileDownloadLocation+filename, \"r\")\n",
    "    # Get list of all lines in file\n",
    "    dataLine= fileHandler.readlines()\n",
    "    # Close file \n",
    "    fileHandler.close()\n",
    "    \n",
    "    dataString = []\n",
    "    for i in range(len(dataLine)):\n",
    "        string = re.split('\\t|,|\\n',dataLine[i])\n",
    "        dataString.append(string[1])\n",
    "    data.append(dataString)"
   ]
  },
  {
   "cell_type": "code",
   "execution_count": 34,
   "id": "d5fa2136",
   "metadata": {},
   "outputs": [
    {
     "data": {
      "text/html": [
       "<div>\n",
       "<style scoped>\n",
       "    .dataframe tbody tr th:only-of-type {\n",
       "        vertical-align: middle;\n",
       "    }\n",
       "\n",
       "    .dataframe tbody tr th {\n",
       "        vertical-align: top;\n",
       "    }\n",
       "\n",
       "    .dataframe thead th {\n",
       "        text-align: right;\n",
       "    }\n",
       "</style>\n",
       "<table border=\"1\" class=\"dataframe\">\n",
       "  <thead>\n",
       "    <tr style=\"text-align: right;\">\n",
       "      <th></th>\n",
       "      <th>ID</th>\n",
       "      <th>Age</th>\n",
       "      <th>Gender</th>\n",
       "      <th>Diagnosis</th>\n",
       "      <th>Occupation status</th>\n",
       "      <th>Voice Handicap Index (VHI) Score</th>\n",
       "      <th>Reflux Symptom Index (RSI) Score</th>\n",
       "      <th>Smoker</th>\n",
       "      <th>Number of cigarettes smoked per day</th>\n",
       "      <th>Alcohol consumption</th>\n",
       "      <th>...</th>\n",
       "      <th>Amount of glasses drinked in a day</th>\n",
       "      <th>Tomatoes</th>\n",
       "      <th>Coffee</th>\n",
       "      <th>Number of cups of coffee drinked in a day</th>\n",
       "      <th>Chocolate</th>\n",
       "      <th>Gramme of chocolate eaten in  a day</th>\n",
       "      <th>Soft cheese</th>\n",
       "      <th>Gramme of soft cheese eaten in a day</th>\n",
       "      <th>Citrus fruits</th>\n",
       "      <th>Number of citrus fruits eaten in a day</th>\n",
       "    </tr>\n",
       "  </thead>\n",
       "  <tbody>\n",
       "    <tr>\n",
       "      <th>0</th>\n",
       "      <td>voice001</td>\n",
       "      <td>32</td>\n",
       "      <td>m</td>\n",
       "      <td>hyperkinetic dysphonia</td>\n",
       "      <td>Researcher</td>\n",
       "      <td>15</td>\n",
       "      <td>5</td>\n",
       "      <td>no</td>\n",
       "      <td>NU</td>\n",
       "      <td>casual drinker</td>\n",
       "      <td>...</td>\n",
       "      <td>NU</td>\n",
       "      <td>sometimes</td>\n",
       "      <td>almost always</td>\n",
       "      <td>4</td>\n",
       "      <td>almost never</td>\n",
       "      <td>NU</td>\n",
       "      <td>sometimes</td>\n",
       "      <td>NU</td>\n",
       "      <td>sometimes</td>\n",
       "      <td>NU</td>\n",
       "    </tr>\n",
       "    <tr>\n",
       "      <th>1</th>\n",
       "      <td>voice002</td>\n",
       "      <td>55</td>\n",
       "      <td>m</td>\n",
       "      <td>healthy</td>\n",
       "      <td>Employee</td>\n",
       "      <td>17</td>\n",
       "      <td>12</td>\n",
       "      <td>casual smoker</td>\n",
       "      <td>2</td>\n",
       "      <td>habitual drinker</td>\n",
       "      <td>...</td>\n",
       "      <td>3</td>\n",
       "      <td>sometimes</td>\n",
       "      <td>sometimes</td>\n",
       "      <td>3</td>\n",
       "      <td>sometimes</td>\n",
       "      <td>NU</td>\n",
       "      <td>almost always</td>\n",
       "      <td>50 gr</td>\n",
       "      <td>almost always</td>\n",
       "      <td>2</td>\n",
       "    </tr>\n",
       "    <tr>\n",
       "      <th>2</th>\n",
       "      <td>voice003</td>\n",
       "      <td>34</td>\n",
       "      <td>m</td>\n",
       "      <td>hyperkinetic dysphonia (nodule)</td>\n",
       "      <td>Researcher</td>\n",
       "      <td>42</td>\n",
       "      <td>26</td>\n",
       "      <td>no</td>\n",
       "      <td>NU</td>\n",
       "      <td>casual drinker</td>\n",
       "      <td>...</td>\n",
       "      <td>1</td>\n",
       "      <td>sometimes</td>\n",
       "      <td>almost always</td>\n",
       "      <td>NU</td>\n",
       "      <td>sometimes</td>\n",
       "      <td>20 gr</td>\n",
       "      <td>almost always</td>\n",
       "      <td>200 gr</td>\n",
       "      <td>almost never</td>\n",
       "      <td>NU</td>\n",
       "    </tr>\n",
       "    <tr>\n",
       "      <th>3</th>\n",
       "      <td>voice004</td>\n",
       "      <td>28</td>\n",
       "      <td>f</td>\n",
       "      <td>hypokinetic dysphonia</td>\n",
       "      <td>Researcher</td>\n",
       "      <td>20</td>\n",
       "      <td>9</td>\n",
       "      <td>casual smoker</td>\n",
       "      <td>NU</td>\n",
       "      <td>casual drinker</td>\n",
       "      <td>...</td>\n",
       "      <td>NU</td>\n",
       "      <td>sometimes</td>\n",
       "      <td>always</td>\n",
       "      <td>3</td>\n",
       "      <td>sometimes</td>\n",
       "      <td>NU</td>\n",
       "      <td>almost always</td>\n",
       "      <td>NU</td>\n",
       "      <td>sometimes</td>\n",
       "      <td>NU</td>\n",
       "    </tr>\n",
       "    <tr>\n",
       "      <th>4</th>\n",
       "      <td>voice005</td>\n",
       "      <td>54</td>\n",
       "      <td>f</td>\n",
       "      <td>hypokinetic dysphonia</td>\n",
       "      <td>Researcher</td>\n",
       "      <td>39</td>\n",
       "      <td>23</td>\n",
       "      <td>no</td>\n",
       "      <td>NU</td>\n",
       "      <td>casual drinker</td>\n",
       "      <td>...</td>\n",
       "      <td>NU</td>\n",
       "      <td>sometimes</td>\n",
       "      <td>never</td>\n",
       "      <td>NU</td>\n",
       "      <td>sometimes</td>\n",
       "      <td>150 gr</td>\n",
       "      <td>sometimes</td>\n",
       "      <td>200 gr</td>\n",
       "      <td>almost always</td>\n",
       "      <td>1</td>\n",
       "    </tr>\n",
       "  </tbody>\n",
       "</table>\n",
       "<p>5 rows × 24 columns</p>\n",
       "</div>"
      ],
      "text/plain": [
       "         ID Age Gender                        Diagnosis Occupation status  \\\n",
       "0  voice001  32      m           hyperkinetic dysphonia        Researcher   \n",
       "1  voice002  55      m                          healthy          Employee   \n",
       "2  voice003  34      m  hyperkinetic dysphonia (nodule)        Researcher   \n",
       "3  voice004  28      f            hypokinetic dysphonia        Researcher   \n",
       "4  voice005  54      f            hypokinetic dysphonia        Researcher   \n",
       "\n",
       "  Voice Handicap Index (VHI) Score Reflux Symptom Index (RSI) Score  \\\n",
       "0                               15                                5   \n",
       "1                               17                               12   \n",
       "2                               42                               26   \n",
       "3                               20                                9   \n",
       "4                               39                               23   \n",
       "\n",
       "          Smoker Number of cigarettes smoked per day Alcohol consumption  ...  \\\n",
       "0             no                                  NU      casual drinker  ...   \n",
       "1  casual smoker                                   2    habitual drinker  ...   \n",
       "2             no                                  NU      casual drinker  ...   \n",
       "3  casual smoker                                  NU      casual drinker  ...   \n",
       "4             no                                  NU      casual drinker  ...   \n",
       "\n",
       "  Amount of glasses drinked in a day   Tomatoes         Coffee  \\\n",
       "0                                 NU  sometimes  almost always   \n",
       "1                                  3  sometimes      sometimes   \n",
       "2                                  1  sometimes  almost always   \n",
       "3                                 NU  sometimes         always   \n",
       "4                                 NU  sometimes          never   \n",
       "\n",
       "  Number of cups of coffee drinked in a day     Chocolate  \\\n",
       "0                                         4  almost never   \n",
       "1                                         3     sometimes   \n",
       "2                                        NU     sometimes   \n",
       "3                                         3     sometimes   \n",
       "4                                        NU     sometimes   \n",
       "\n",
       "  Gramme of chocolate eaten in  a day    Soft cheese  \\\n",
       "0                                  NU      sometimes   \n",
       "1                                  NU  almost always   \n",
       "2                               20 gr  almost always   \n",
       "3                                  NU  almost always   \n",
       "4                             150 gr       sometimes   \n",
       "\n",
       "  Gramme of soft cheese eaten in a day  Citrus fruits  \\\n",
       "0                                   NU      sometimes   \n",
       "1                                50 gr  almost always   \n",
       "2                               200 gr   almost never   \n",
       "3                                   NU      sometimes   \n",
       "4                              200 gr   almost always   \n",
       "\n",
       "  Number of citrus fruits eaten in a day  \n",
       "0                                     NU  \n",
       "1                                      2  \n",
       "2                                     NU  \n",
       "3                                     NU  \n",
       "4                                      1  \n",
       "\n",
       "[5 rows x 24 columns]"
      ]
     },
     "execution_count": 34,
     "metadata": {},
     "output_type": "execute_result"
    }
   ],
   "source": [
    "# Drop all columns with name ''\n",
    "df = pd.DataFrame(data)\n",
    "df.columns = newheaderList\n",
    "df = df.drop('', axis=1)\n",
    "df.head()"
   ]
  },
  {
   "cell_type": "code",
   "execution_count": 35,
   "id": "8288adfd",
   "metadata": {},
   "outputs": [
    {
     "data": {
      "text/plain": [
       "(208, 24)"
      ]
     },
     "execution_count": 35,
     "metadata": {},
     "output_type": "execute_result"
    }
   ],
   "source": [
    "df.shape"
   ]
  },
  {
   "cell_type": "code",
   "execution_count": 36,
   "id": "31c12deb",
   "metadata": {},
   "outputs": [
    {
     "data": {
      "text/plain": [
       "['ID',\n",
       " 'Age',\n",
       " 'Gender',\n",
       " 'Diagnosis',\n",
       " 'Occupation status',\n",
       " 'Voice Handicap Index (VHI) Score',\n",
       " 'Reflux Symptom Index (RSI) Score',\n",
       " 'Smoker',\n",
       " 'Number of cigarettes smoked per day',\n",
       " 'Alcohol consumption',\n",
       " 'Number of glasses containing alcoholic beverage drinked in a day',\n",
       " \"Amount of water's litres drink every day\",\n",
       " 'Eating habits',\n",
       " 'Carbonated beverages',\n",
       " 'Amount of glasses drinked in a day',\n",
       " 'Tomatoes',\n",
       " 'Coffee',\n",
       " 'Number of cups of coffee drinked in a day',\n",
       " 'Chocolate',\n",
       " 'Gramme of chocolate eaten in  a day',\n",
       " 'Soft cheese',\n",
       " 'Gramme of soft cheese eaten in a day',\n",
       " 'Citrus fruits',\n",
       " 'Number of citrus fruits eaten in a day']"
      ]
     },
     "execution_count": 36,
     "metadata": {},
     "output_type": "execute_result"
    }
   ],
   "source": [
    "list(df.columns.values)"
   ]
  },
  {
   "cell_type": "code",
   "execution_count": 38,
   "id": "71c6cfcb",
   "metadata": {},
   "outputs": [
    {
     "name": "stdout",
     "output_type": "stream",
     "text": [
      "Collecting openpyxl\n",
      "  Downloading openpyxl-3.1.2-py2.py3-none-any.whl (249 kB)\n",
      "\u001b[2K     \u001b[90m━━━━━━━━━━━━━━━━━━━━━━━━━━━━━━━━━━━━━━━\u001b[0m \u001b[32m250.0/250.0 kB\u001b[0m \u001b[31m3.8 MB/s\u001b[0m eta \u001b[36m0:00:00\u001b[0ma \u001b[36m0:00:01\u001b[0m\n",
      "\u001b[?25hCollecting et-xmlfile\n",
      "  Downloading et_xmlfile-1.1.0-py3-none-any.whl (4.7 kB)\n",
      "Installing collected packages: et-xmlfile, openpyxl\n",
      "Successfully installed et-xmlfile-1.1.0 openpyxl-3.1.2\n"
     ]
    }
   ],
   "source": [
    "##!pip install openpyxl"
   ]
  },
  {
   "cell_type": "code",
   "execution_count": 45,
   "id": "d580f842",
   "metadata": {},
   "outputs": [],
   "source": [
    "from openpyxl import Workbook\n",
    "##import xlsxwriter"
   ]
  },
  {
   "cell_type": "code",
   "execution_count": 46,
   "id": "f053394d",
   "metadata": {},
   "outputs": [
    {
     "name": "stderr",
     "output_type": "stream",
     "text": [
      "/var/folders/qc/kchzqjkn6fdfm85q_f5345m00000gn/T/ipykernel_98477/425890000.py:4: FutureWarning: Starting with pandas version 3.0 all arguments of to_excel except for the argument 'excel_writer' will be keyword-only.\n",
      "  df.to_excel(writer,'Sheet1')\n"
     ]
    }
   ],
   "source": [
    "# Write to excel file\n",
    "excelFile = './Datasets/dataset_InfoTxtFile.xlsx'\n",
    "writer = pd.ExcelWriter(excelFile)\n",
    "df.to_excel(writer,'Sheet1')\n",
    "writer.close()"
   ]
  },
  {
   "cell_type": "code",
   "execution_count": null,
   "id": "a54f4d9b",
   "metadata": {},
   "outputs": [],
   "source": []
  },
  {
   "cell_type": "markdown",
   "id": "121b54c7",
   "metadata": {},
   "source": [
    "Machine Learning"
   ]
  },
  {
   "cell_type": "code",
   "execution_count": 61,
   "id": "0bad25b1",
   "metadata": {},
   "outputs": [],
   "source": [
    "from sklearn.model_selection import train_test_split\n",
    "from sklearn.preprocessing import LabelEncoder\n",
    "from sklearn.ensemble import RandomForestClassifier\n",
    "from sklearn.ensemble import RandomForestRegressor\n",
    "from sklearn.metrics import accuracy_score, classification_report\n",
    "from sklearn.metrics import mean_squared_error"
   ]
  },
  {
   "cell_type": "code",
   "execution_count": 49,
   "id": "b0c73c8f",
   "metadata": {},
   "outputs": [
    {
     "name": "stdout",
     "output_type": "stream",
     "text": [
      "Missing Values:\n",
      " ID                                                                  0\n",
      "Age                                                                 0\n",
      "Gender                                                              0\n",
      "Diagnosis                                                           0\n",
      "Occupation status                                                   0\n",
      "Voice Handicap Index (VHI) Score                                    0\n",
      "Reflux Symptom Index (RSI) Score                                    0\n",
      "Smoker                                                              0\n",
      "Number of cigarettes smoked per day                                 0\n",
      "Alcohol consumption                                                 0\n",
      "Number of glasses containing alcoholic beverage drinked in a day    0\n",
      "Amount of water's litres drink every day                            0\n",
      "Eating habits                                                       0\n",
      "Carbonated beverages                                                0\n",
      "Amount of glasses drinked in a day                                  0\n",
      "Tomatoes                                                            0\n",
      "Coffee                                                              0\n",
      "Number of cups of coffee drinked in a day                           0\n",
      "Chocolate                                                           0\n",
      "Gramme of chocolate eaten in  a day                                 0\n",
      "Soft cheese                                                         0\n",
      "Gramme of soft cheese eaten in a day                                0\n",
      "Citrus fruits                                                       0\n",
      "Number of citrus fruits eaten in a day                              0\n",
      "dtype: int64\n"
     ]
    }
   ],
   "source": [
    "# Check for missing values\n",
    "missing_values = df.isnull().sum()\n",
    "print(\"Missing Values:\\n\", missing_values)"
   ]
  },
  {
   "cell_type": "code",
   "execution_count": 50,
   "id": "c8e97282",
   "metadata": {},
   "outputs": [],
   "source": [
    "# Data Preprocessing\n",
    "# Drop rows with missing values (if needed)\n",
    "df.dropna(inplace=True)"
   ]
  },
  {
   "cell_type": "code",
   "execution_count": 57,
   "id": "67d16c8b",
   "metadata": {},
   "outputs": [],
   "source": [
    "# Encode categorical variables\n",
    "label_encoder = LabelEncoder()\n",
    "categorical_columns = ['Gender', 'Diagnosis', 'Occupation status', 'Smoker', 'Alcohol consumption', 'Eating habits']\n",
    "for column in categorical_columns:\n",
    "    df[column] = label_encoder.fit_transform(df[column])\n"
   ]
  },
  {
   "cell_type": "code",
   "execution_count": 58,
   "id": "d131fc05",
   "metadata": {},
   "outputs": [],
   "source": [
    "# Split data into features and target variable\n",
    "X = df.drop(columns=['ID', 'Voice Handicap Index (VHI) Score'])  # Features\n",
    "y = df['Voice Handicap Index (VHI) Score']  # Target variable\n"
   ]
  },
  {
   "cell_type": "code",
   "execution_count": 59,
   "id": "9712ca8e",
   "metadata": {},
   "outputs": [],
   "source": [
    "# Split data into training and testing sets\n",
    "X_train, X_test, y_train, y_test = train_test_split(X, y, test_size=0.2, random_state=42)\n"
   ]
  },
  {
   "cell_type": "code",
   "execution_count": 63,
   "id": "8b69dc64",
   "metadata": {},
   "outputs": [],
   "source": [
    "# Machine Learning Model\n",
    "# Train a RandomForestRegressor\n",
    "#rf_regressor = RandomForestRegressor(n_estimators=100, random_state=42)\n",
    "#rf_regressor.fit(X_train, y_train)"
   ]
  },
  {
   "cell_type": "code",
   "execution_count": 86,
   "id": "f4faba8d",
   "metadata": {},
   "outputs": [],
   "source": [
    "#!pip install wfdb"
   ]
  },
  {
   "cell_type": "code",
   "execution_count": 65,
   "id": "9734e6d3",
   "metadata": {},
   "outputs": [],
   "source": [
    "import wfdb"
   ]
  },
  {
   "cell_type": "code",
   "execution_count": 85,
   "id": "00a11ec0",
   "metadata": {},
   "outputs": [],
   "source": [
    "##record = wfdb.rdrecord('DataBase/voice002')"
   ]
  },
  {
   "cell_type": "code",
   "execution_count": 94,
   "id": "a01ddc7f",
   "metadata": {},
   "outputs": [],
   "source": [
    "# Assuming filename is the name of the WFDB file you want to load\n",
    "filename = 'voice001'"
   ]
  },
  {
   "cell_type": "code",
   "execution_count": 115,
   "id": "a9fdb89f",
   "metadata": {},
   "outputs": [],
   "source": [
    "# Load the WFDB record\n",
    "record = wfdb.rdrecord(filename, pn_dir='voiced')"
   ]
  },
  {
   "cell_type": "code",
   "execution_count": 112,
   "id": "e877f56a",
   "metadata": {},
   "outputs": [
    {
     "name": "stdout",
     "output_type": "stream",
     "text": [
      "{'record_name': 'voice001', 'n_sig': 1, 'fs': 8000, 'counter_freq': None, 'base_counter': None, 'sig_len': 38080, 'base_time': None, 'base_date': None, 'comments': ['<age>: 32  <sex>: M <diagnoses>: hyperkinetic dysphonia <medications>: none'], 'sig_name': ['voice'], 'p_signal': array([[ 0.        ],\n",
      "       [ 0.        ],\n",
      "       [ 0.        ],\n",
      "       ...,\n",
      "       [ 0.00354004],\n",
      "       [-0.03735352],\n",
      "       [-0.02871704]]), 'd_signal': None, 'e_p_signal': None, 'e_d_signal': None, 'file_name': ['voice001.dat'], 'fmt': ['32'], 'samps_per_frame': [1], 'skew': [None], 'byte_offset': [None], 'adc_gain': [4079702243.3775], 'baseline': [-260023747], 'units': ['NU'], 'adc_res': [0], 'adc_zero': [0], 'init_value': [-260023747], 'checksum': [14973], 'block_size': [0]}\n"
     ]
    }
   ],
   "source": [
    "# Print record information\n",
    "print(record.__dict__)"
   ]
  },
  {
   "cell_type": "code",
   "execution_count": null,
   "id": "42266316",
   "metadata": {},
   "outputs": [],
   "source": []
  },
  {
   "cell_type": "code",
   "execution_count": 113,
   "id": "f5c6e8a7",
   "metadata": {},
   "outputs": [
    {
     "name": "stdout",
     "output_type": "stream",
     "text": [
      "[[ 0.        ]\n",
      " [ 0.        ]\n",
      " [ 0.        ]\n",
      " ...\n",
      " [ 0.00354004]\n",
      " [-0.03735352]\n",
      " [-0.02871704]]\n"
     ]
    }
   ],
   "source": [
    "# Access signal data\n",
    "signals = record.p_signal\n",
    "print(signals)"
   ]
  },
  {
   "cell_type": "code",
   "execution_count": 98,
   "id": "e500082e",
   "metadata": {},
   "outputs": [
    {
     "name": "stdout",
     "output_type": "stream",
     "text": [
      "['voice']\n"
     ]
    }
   ],
   "source": [
    "# Access signal labels\n",
    "signal_labels = record.sig_name\n",
    "print(signal_labels)"
   ]
  },
  {
   "cell_type": "code",
   "execution_count": 123,
   "id": "d70160b7",
   "metadata": {},
   "outputs": [],
   "source": [
    "##wfdb.rdsamp(filename, sampfrom=0, sampto=None, channels=None, pn_dir=None, channel_names=None, warn_empty=False, return_res=64)"
   ]
  },
  {
   "cell_type": "code",
   "execution_count": null,
   "id": "5a66d963",
   "metadata": {},
   "outputs": [],
   "source": []
  }
 ],
 "metadata": {
  "kernelspec": {
   "display_name": "Python 3 (ipykernel)",
   "language": "python",
   "name": "python3"
  },
  "language_info": {
   "codemirror_mode": {
    "name": "ipython",
    "version": 3
   },
   "file_extension": ".py",
   "mimetype": "text/x-python",
   "name": "python",
   "nbconvert_exporter": "python",
   "pygments_lexer": "ipython3",
   "version": "3.9.16"
  }
 },
 "nbformat": 4,
 "nbformat_minor": 5
}
