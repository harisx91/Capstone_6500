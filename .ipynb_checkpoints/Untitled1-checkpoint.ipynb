{
 "cells": [
  {
   "cell_type": "code",
   "execution_count": 3,
   "id": "734098b4",
   "metadata": {},
   "outputs": [
    {
     "ename": "AttributeError",
     "evalue": "partially initialized module 'yfinance' has no attribute 'Ticker' (most likely due to a circular import)",
     "output_type": "error",
     "traceback": [
      "\u001b[0;31m---------------------------------------------------------------------------\u001b[0m",
      "\u001b[0;31mAttributeError\u001b[0m                            Traceback (most recent call last)",
      "Cell \u001b[0;32mIn[3], line 2\u001b[0m\n\u001b[1;32m      1\u001b[0m \u001b[38;5;28;01mimport\u001b[39;00m \u001b[38;5;21;01msqlite3\u001b[39;00m\n\u001b[0;32m----> 2\u001b[0m \u001b[38;5;28;01mimport\u001b[39;00m \u001b[38;5;21;01myfinance\u001b[39;00m \u001b[38;5;28;01mas\u001b[39;00m \u001b[38;5;21;01myf\u001b[39;00m\n",
      "File \u001b[0;32m~/Documents/Intro_Computer_Science/Capstone_6500/yfinance.py:49\u001b[0m\n\u001b[1;32m     46\u001b[0m     \u001b[38;5;28;01mreturn\u001b[39;00m total_value\n\u001b[1;32m     48\u001b[0m \u001b[38;5;66;03m# sample usage\u001b[39;00m\n\u001b[0;32m---> 49\u001b[0m \u001b[43madd_stock\u001b[49m\u001b[43m(\u001b[49m\u001b[38;5;124;43m'\u001b[39;49m\u001b[38;5;124;43mAAPL\u001b[39;49m\u001b[38;5;124;43m'\u001b[39;49m\u001b[43m,\u001b[49m\u001b[43m \u001b[49m\u001b[38;5;241;43m100\u001b[39;49m\u001b[43m,\u001b[49m\u001b[43m \u001b[49m\u001b[38;5;241;43m150\u001b[39;49m\u001b[43m)\u001b[49m\n\u001b[1;32m     50\u001b[0m update_stock(\u001b[38;5;124m'\u001b[39m\u001b[38;5;124mAAPL\u001b[39m\u001b[38;5;124m'\u001b[39m, \u001b[38;5;241m150\u001b[39m, \u001b[38;5;241m170\u001b[39m)\n\u001b[1;32m     51\u001b[0m delete_stock(\u001b[38;5;124m'\u001b[39m\u001b[38;5;124mAAPL\u001b[39m\u001b[38;5;124m'\u001b[39m)\n",
      "File \u001b[0;32m~/Documents/Intro_Computer_Science/Capstone_6500/yfinance.py:16\u001b[0m, in \u001b[0;36madd_stock\u001b[0;34m(symbol, shares, purchase_price)\u001b[0m\n\u001b[1;32m     15\u001b[0m \u001b[38;5;28;01mdef\u001b[39;00m \u001b[38;5;21madd_stock\u001b[39m(symbol, shares, purchase_price):\n\u001b[0;32m---> 16\u001b[0m     stock \u001b[38;5;241m=\u001b[39m \u001b[43myf\u001b[49m\u001b[38;5;241;43m.\u001b[39;49m\u001b[43mTicker\u001b[49m(symbol)\n\u001b[1;32m     17\u001b[0m     name \u001b[38;5;241m=\u001b[39m stock\u001b[38;5;241m.\u001b[39minfo[\u001b[38;5;124m'\u001b[39m\u001b[38;5;124mshortName\u001b[39m\u001b[38;5;124m'\u001b[39m]\n\u001b[1;32m     18\u001b[0m     current_price \u001b[38;5;241m=\u001b[39m stock\u001b[38;5;241m.\u001b[39minfo[\u001b[38;5;124m'\u001b[39m\u001b[38;5;124mregularMarketPrice\u001b[39m\u001b[38;5;124m'\u001b[39m]\n",
      "\u001b[0;31mAttributeError\u001b[0m: partially initialized module 'yfinance' has no attribute 'Ticker' (most likely due to a circular import)"
     ]
    }
   ],
   "source": [
    "import sqlite3\n",
    "import yfinance as yf"
   ]
  },
  {
   "cell_type": "code",
   "execution_count": 4,
   "id": "17326756",
   "metadata": {},
   "outputs": [
    {
     "name": "stdout",
     "output_type": "stream",
     "text": [
      "Collecting yfinance\n",
      "  Downloading yfinance-0.2.14-py2.py3-none-any.whl (59 kB)\n",
      "\u001b[2K     \u001b[38;2;114;156;31m━━━━━━━━━━━━━━━━━━━━━━━━━━━━━━━━━━━━━━━━\u001b[0m \u001b[32m59.7/59.7 kB\u001b[0m \u001b[31m1.1 MB/s\u001b[0m eta \u001b[36m0:00:00\u001b[0m MB/s\u001b[0m eta \u001b[36m0:00:01\u001b[0m\n",
      "\u001b[?25hRequirement already satisfied: cryptography>=3.3.2 in /Users/harisx91/anaconda3/envs/newbasicenv/lib/python3.9/site-packages (from yfinance) (39.0.1)\n",
      "Collecting appdirs>=1.4.4\n",
      "  Downloading appdirs-1.4.4-py2.py3-none-any.whl (9.6 kB)\n",
      "Collecting multitasking>=0.0.7\n",
      "  Downloading multitasking-0.0.11-py3-none-any.whl (8.5 kB)\n",
      "Collecting pandas>=1.3.0\n",
      "  Downloading pandas-1.5.3-cp39-cp39-macosx_10_9_x86_64.whl (12.0 MB)\n",
      "\u001b[2K     \u001b[38;2;114;156;31m━━━━━━━━━━━━━━━━━━━━━━━━━━━━━━━━━━━━━━━━\u001b[0m \u001b[32m12.0/12.0 MB\u001b[0m \u001b[31m9.0 MB/s\u001b[0m eta \u001b[36m0:00:00\u001b[0mm eta \u001b[36m0:00:01\u001b[0m0:01\u001b[0m:01\u001b[0m\n",
      "\u001b[?25hRequirement already satisfied: lxml>=4.9.1 in /Users/harisx91/anaconda3/envs/newbasicenv/lib/python3.9/site-packages (from yfinance) (4.9.2)\n",
      "Requirement already satisfied: pytz>=2022.5 in /Users/harisx91/anaconda3/envs/newbasicenv/lib/python3.9/site-packages (from yfinance) (2022.7)\n",
      "Collecting frozendict>=2.3.4\n",
      "  Downloading frozendict-2.3.6-cp39-cp39-macosx_10_9_x86_64.whl (35 kB)\n",
      "Collecting numpy>=1.16.5\n",
      "  Downloading numpy-1.24.2-cp39-cp39-macosx_10_9_x86_64.whl (19.8 MB)\n",
      "\u001b[2K     \u001b[38;2;114;156;31m━━━━━━━━━━━━━━━━━━━━━━━━━━━━━━━━━━━━━━━━\u001b[0m \u001b[32m19.8/19.8 MB\u001b[0m \u001b[31m8.1 MB/s\u001b[0m eta \u001b[36m0:00:00\u001b[0mm eta \u001b[36m0:00:01\u001b[0m[36m0:00:01\u001b[0m\n",
      "\u001b[?25hRequirement already satisfied: requests>=2.26 in /Users/harisx91/anaconda3/envs/newbasicenv/lib/python3.9/site-packages (from yfinance) (2.28.1)\n",
      "Collecting html5lib>=1.1\n",
      "  Downloading html5lib-1.1-py2.py3-none-any.whl (112 kB)\n",
      "\u001b[2K     \u001b[38;2;114;156;31m━━━━━━━━━━━━━━━━━━━━━━━━━━━━━━━━━━━━━━━\u001b[0m \u001b[32m112.2/112.2 kB\u001b[0m \u001b[31m3.3 MB/s\u001b[0m eta \u001b[36m0:00:00\u001b[0m\n",
      "\u001b[?25hRequirement already satisfied: beautifulsoup4>=4.11.1 in /Users/harisx91/anaconda3/envs/newbasicenv/lib/python3.9/site-packages (from yfinance) (4.11.1)\n",
      "Requirement already satisfied: soupsieve>1.2 in /Users/harisx91/anaconda3/envs/newbasicenv/lib/python3.9/site-packages (from beautifulsoup4>=4.11.1->yfinance) (2.3.2.post1)\n",
      "Requirement already satisfied: cffi>=1.12 in /Users/harisx91/anaconda3/envs/newbasicenv/lib/python3.9/site-packages (from cryptography>=3.3.2->yfinance) (1.15.1)\n",
      "Requirement already satisfied: six>=1.9 in /Users/harisx91/anaconda3/envs/newbasicenv/lib/python3.9/site-packages (from html5lib>=1.1->yfinance) (1.16.0)\n",
      "Requirement already satisfied: webencodings in /Users/harisx91/anaconda3/envs/newbasicenv/lib/python3.9/site-packages (from html5lib>=1.1->yfinance) (0.5.1)\n",
      "Requirement already satisfied: python-dateutil>=2.8.1 in /Users/harisx91/anaconda3/envs/newbasicenv/lib/python3.9/site-packages (from pandas>=1.3.0->yfinance) (2.8.2)\n",
      "Requirement already satisfied: urllib3<1.27,>=1.21.1 in /Users/harisx91/anaconda3/envs/newbasicenv/lib/python3.9/site-packages (from requests>=2.26->yfinance) (1.26.14)\n",
      "Requirement already satisfied: idna<4,>=2.5 in /Users/harisx91/anaconda3/envs/newbasicenv/lib/python3.9/site-packages (from requests>=2.26->yfinance) (3.4)\n",
      "Requirement already satisfied: charset-normalizer<3,>=2 in /Users/harisx91/anaconda3/envs/newbasicenv/lib/python3.9/site-packages (from requests>=2.26->yfinance) (2.0.4)\n",
      "Requirement already satisfied: certifi>=2017.4.17 in /Users/harisx91/anaconda3/envs/newbasicenv/lib/python3.9/site-packages (from requests>=2.26->yfinance) (2022.12.7)\n",
      "Requirement already satisfied: pycparser in /Users/harisx91/anaconda3/envs/newbasicenv/lib/python3.9/site-packages (from cffi>=1.12->cryptography>=3.3.2->yfinance) (2.21)\n",
      "Installing collected packages: multitasking, appdirs, numpy, html5lib, frozendict, pandas, yfinance\n",
      "Successfully installed appdirs-1.4.4 frozendict-2.3.6 html5lib-1.1 multitasking-0.0.11 numpy-1.24.2 pandas-1.5.3 yfinance-0.2.14\n",
      "Note: you may need to restart the kernel to use updated packages.\n"
     ]
    }
   ],
   "source": [
    "pip install yfinance"
   ]
  },
  {
   "cell_type": "code",
   "execution_count": 5,
   "id": "38d96a90",
   "metadata": {},
   "outputs": [
    {
     "ename": "AttributeError",
     "evalue": "partially initialized module 'yfinance' has no attribute 'Ticker' (most likely due to a circular import)",
     "output_type": "error",
     "traceback": [
      "\u001b[0;31m---------------------------------------------------------------------------\u001b[0m",
      "\u001b[0;31mAttributeError\u001b[0m                            Traceback (most recent call last)",
      "Cell \u001b[0;32mIn[5], line 2\u001b[0m\n\u001b[1;32m      1\u001b[0m \u001b[38;5;28;01mimport\u001b[39;00m \u001b[38;5;21;01msqlite3\u001b[39;00m\n\u001b[0;32m----> 2\u001b[0m \u001b[38;5;28;01mimport\u001b[39;00m \u001b[38;5;21;01myfinance\u001b[39;00m \u001b[38;5;28;01mas\u001b[39;00m \u001b[38;5;21;01myf\u001b[39;00m\n\u001b[1;32m      4\u001b[0m \u001b[38;5;66;03m# create a connection to the database\u001b[39;00m\n\u001b[1;32m      5\u001b[0m conn \u001b[38;5;241m=\u001b[39m sqlite3\u001b[38;5;241m.\u001b[39mconnect(\u001b[38;5;124m'\u001b[39m\u001b[38;5;124mportfolio.db\u001b[39m\u001b[38;5;124m'\u001b[39m)\n",
      "File \u001b[0;32m~/Documents/Intro_Computer_Science/Capstone_6500/yfinance.py:49\u001b[0m\n\u001b[1;32m     46\u001b[0m     \u001b[38;5;28;01mreturn\u001b[39;00m total_value\n\u001b[1;32m     48\u001b[0m \u001b[38;5;66;03m# sample usage\u001b[39;00m\n\u001b[0;32m---> 49\u001b[0m \u001b[43madd_stock\u001b[49m\u001b[43m(\u001b[49m\u001b[38;5;124;43m'\u001b[39;49m\u001b[38;5;124;43mAAPL\u001b[39;49m\u001b[38;5;124;43m'\u001b[39;49m\u001b[43m,\u001b[49m\u001b[43m \u001b[49m\u001b[38;5;241;43m100\u001b[39;49m\u001b[43m,\u001b[49m\u001b[43m \u001b[49m\u001b[38;5;241;43m150\u001b[39;49m\u001b[43m)\u001b[49m\n\u001b[1;32m     50\u001b[0m update_stock(\u001b[38;5;124m'\u001b[39m\u001b[38;5;124mAAPL\u001b[39m\u001b[38;5;124m'\u001b[39m, \u001b[38;5;241m150\u001b[39m, \u001b[38;5;241m170\u001b[39m)\n\u001b[1;32m     51\u001b[0m delete_stock(\u001b[38;5;124m'\u001b[39m\u001b[38;5;124mAAPL\u001b[39m\u001b[38;5;124m'\u001b[39m)\n",
      "File \u001b[0;32m~/Documents/Intro_Computer_Science/Capstone_6500/yfinance.py:16\u001b[0m, in \u001b[0;36madd_stock\u001b[0;34m(symbol, shares, purchase_price)\u001b[0m\n\u001b[1;32m     15\u001b[0m \u001b[38;5;28;01mdef\u001b[39;00m \u001b[38;5;21madd_stock\u001b[39m(symbol, shares, purchase_price):\n\u001b[0;32m---> 16\u001b[0m     stock \u001b[38;5;241m=\u001b[39m \u001b[43myf\u001b[49m\u001b[38;5;241;43m.\u001b[39;49m\u001b[43mTicker\u001b[49m(symbol)\n\u001b[1;32m     17\u001b[0m     name \u001b[38;5;241m=\u001b[39m stock\u001b[38;5;241m.\u001b[39minfo[\u001b[38;5;124m'\u001b[39m\u001b[38;5;124mshortName\u001b[39m\u001b[38;5;124m'\u001b[39m]\n\u001b[1;32m     18\u001b[0m     current_price \u001b[38;5;241m=\u001b[39m stock\u001b[38;5;241m.\u001b[39minfo[\u001b[38;5;124m'\u001b[39m\u001b[38;5;124mregularMarketPrice\u001b[39m\u001b[38;5;124m'\u001b[39m]\n",
      "\u001b[0;31mAttributeError\u001b[0m: partially initialized module 'yfinance' has no attribute 'Ticker' (most likely due to a circular import)"
     ]
    }
   ],
   "source": [
    "import sqlite3\n",
    "import yfinance as yf\n",
    "\n",
    "# create a connection to the database\n",
    "conn = sqlite3.connect('portfolio.db')\n",
    "\n",
    "# create a cursor object\n",
    "c = conn.cursor()\n",
    "\n",
    "# create a table to store stock data\n",
    "c.execute('''CREATE TABLE IF NOT EXISTS stocks\n",
    "             (symbol TEXT, name TEXT, shares INTEGER, purchase_price REAL, current_price REAL)''')\n",
    "\n",
    "# function to add a new stock to the portfolio\n",
    "def add_stock(symbol, shares, purchase_price):\n",
    "    stock = yf.Ticker(symbol)\n",
    "    name = stock.info['shortName']\n",
    "    current_price = stock.info['regularMarketPrice']\n",
    "    c.execute('''INSERT INTO stocks (symbol, name, shares, purchase_price, current_price)\n",
    "                 VALUES (?, ?, ?, ?, ?)''', (symbol, name, shares, purchase_price, current_price))\n",
    "    conn.commit()\n",
    "    print('Stock added successfully')\n",
    "\n",
    "# function to update a stock in the portfolio\n",
    "def update_stock(symbol, shares, purchase_price):\n",
    "    stock = yf.Ticker(symbol)\n",
    "    name = stock.info['shortName']\n",
    "    current_price = stock.info['regularMarketPrice']\n",
    "    c.execute('''UPDATE stocks\n",
    "                 SET name = ?, shares = ?, purchase_price = ?, current_price = ?\n",
    "                 WHERE symbol = ?''', (name, shares, purchase_price, current_price, symbol))\n",
    "    conn.commit()\n",
    "    print('Stock updated successfully')\n",
    "\n",
    "# function to delete a stock from the portfolio\n",
    "def delete_stock(symbol):\n",
    "    c.execute('''DELETE FROM stocks WHERE symbol = ?''', (symbol,))\n",
    "    conn.commit()\n",
    "    print('Stock deleted successfully')\n",
    "\n",
    "# function to get the current value of the portfolio\n",
    "def get_portfolio_value():\n",
    "    total_value = 0\n",
    "    for row in c.execute('SELECT * FROM stocks'):\n",
    "        total_value += row[2] * row[4]\n",
    "    return total_value\n",
    "\n",
    "# sample usage\n",
    "add_stock('AAPL', 100, 150)\n",
    "update_stock('AAPL', 150, 170)\n",
    "delete_stock('AAPL')\n",
    "print('Portfolio value:', get_portfolio_value())\n"
   ]
  },
  {
   "cell_type": "code",
   "execution_count": null,
   "id": "9f8a1890",
   "metadata": {},
   "outputs": [],
   "source": []
  }
 ],
 "metadata": {
  "kernelspec": {
   "display_name": "Python 3 (ipykernel)",
   "language": "python",
   "name": "python3"
  },
  "language_info": {
   "codemirror_mode": {
    "name": "ipython",
    "version": 3
   },
   "file_extension": ".py",
   "mimetype": "text/x-python",
   "name": "python",
   "nbconvert_exporter": "python",
   "pygments_lexer": "ipython3",
   "version": "3.9.16"
  }
 },
 "nbformat": 4,
 "nbformat_minor": 5
}
