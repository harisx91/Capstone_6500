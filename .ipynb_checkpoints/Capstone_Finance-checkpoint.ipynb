{
 "cells": [
  {
   "cell_type": "code",
   "execution_count": 11,
   "metadata": {},
   "outputs": [
    {
     "name": "stdout",
     "output_type": "stream",
     "text": [
      "Collecting fmp_python\n",
      "  Downloading fmp_python-0.1.4-py3-none-any.whl (9.0 kB)\n",
      "Requirement already satisfied: pandas in /Users/harisx91/anaconda3/lib/python3.6/site-packages (from fmp_python) (1.0.5)\n",
      "Requirement already satisfied: requests in /Users/harisx91/anaconda3/lib/python3.6/site-packages (from fmp_python) (2.24.0)\n",
      "Requirement already satisfied: numpy>=1.13.3 in /Users/harisx91/anaconda3/lib/python3.6/site-packages (from pandas->fmp_python) (1.19.5)\n",
      "Requirement already satisfied: python-dateutil>=2.6.1 in /Users/harisx91/anaconda3/lib/python3.6/site-packages (from pandas->fmp_python) (2.7.3)\n",
      "Requirement already satisfied: pytz>=2017.2 in /Users/harisx91/anaconda3/lib/python3.6/site-packages (from pandas->fmp_python) (2018.4)\n",
      "Requirement already satisfied: six>=1.5 in /Users/harisx91/anaconda3/lib/python3.6/site-packages (from python-dateutil>=2.6.1->pandas->fmp_python) (1.15.0)\n",
      "Requirement already satisfied: certifi>=2017.4.17 in /Users/harisx91/anaconda3/lib/python3.6/site-packages (from requests->fmp_python) (2021.5.30)\n",
      "Requirement already satisfied: urllib3!=1.25.0,!=1.25.1,<1.26,>=1.21.1 in /Users/harisx91/anaconda3/lib/python3.6/site-packages (from requests->fmp_python) (1.22)\n",
      "Requirement already satisfied: idna<3,>=2.5 in /Users/harisx91/anaconda3/lib/python3.6/site-packages (from requests->fmp_python) (2.6)\n",
      "Requirement already satisfied: chardet<4,>=3.0.2 in /Users/harisx91/anaconda3/lib/python3.6/site-packages (from requests->fmp_python) (3.0.4)\n",
      "Installing collected packages: fmp-python\n",
      "Successfully installed fmp-python-0.1.4\n",
      "\u001b[33mWARNING: You are using pip version 21.2.4; however, version 21.3.1 is available.\n",
      "You should consider upgrading via the '/Users/harisx91/anaconda3/bin/python -m pip install --upgrade pip' command.\u001b[0m\n"
     ]
    }
   ],
   "source": [
    "!pip install fmp_python"
   ]
  },
  {
   "cell_type": "code",
   "execution_count": 28,
   "metadata": {},
   "outputs": [],
   "source": [
    "# Other libraries\n",
    "import numpy as np\n",
    "import pandas as pd\n",
    "import matplotlib.pyplot as plt\n",
    "import json\n",
    "from urllib.request import urlopen\n"
   ]
  },
  {
   "cell_type": "code",
   "execution_count": 29,
   "metadata": {},
   "outputs": [],
   "source": [
    "url = 'https://financialmodelingprep.com/api/v4/institutional-ownership/institutional-holders/symbol-ownership-percent?date=2021-09-30&symbol=AAPL&page=0&apikey=43349811e3f55406d7fa78d6bc8f2298'"
   ]
  },
  {
   "cell_type": "code",
   "execution_count": 30,
   "metadata": {},
   "outputs": [],
   "source": [
    "with open('APIkey.txt') as f:\n",
    "    key = f.read()"
   ]
  },
  {
   "cell_type": "code",
   "execution_count": 31,
   "metadata": {},
   "outputs": [],
   "source": [
    "##from fmp_python.fmp import FMP\n",
    "\n",
    "##fmp = FMP(api_key='YOUR_API_KEY')\n",
    "##fmp.get_quote('AAL')"
   ]
  },
  {
   "cell_type": "code",
   "execution_count": 32,
   "metadata": {},
   "outputs": [],
   "source": [
    "import json"
   ]
  },
  {
   "cell_type": "code",
   "execution_count": 33,
   "metadata": {},
   "outputs": [],
   "source": [
    "try:\n",
    "        from urllib.request import urlopen\n",
    "except ImportError:\n",
    "    from urllib2 import urlopen"
   ]
  },
  {
   "cell_type": "code",
   "execution_count": 25,
   "metadata": {},
   "outputs": [],
   "source": [
    "def get_jsonparsed_data(url):\n",
    "    \"\"\"\n",
    "    Receive the content of ``url``, parse it as JSON and return the object.\n",
    "\n",
    "    Parameters\n",
    "    ----------\n",
    "    url : str\n",
    "\n",
    "    Returns\n",
    "    -------\n",
    "    dict\n",
    "    \"\"\"\n",
    "    response = urlopen(url)\n",
    "    data = response.read().decode(\"utf-8\")\n",
    "    return json.loads(data)"
   ]
  },
  {
   "cell_type": "code",
   "execution_count": 35,
   "metadata": {},
   "outputs": [
    {
     "data": {
      "text/plain": [
       "[{'symbol': 'AAPL',\n",
       "  'price': 148.015,\n",
       "  'beta': 1.246644,\n",
       "  'volAvg': 88573162,\n",
       "  'mktCap': 2354637438976,\n",
       "  'lastDiv': 0.91,\n",
       "  'range': '129.04-182.94',\n",
       "  'changes': 1.1450043,\n",
       "  'companyName': 'Apple Inc.',\n",
       "  'currency': 'USD',\n",
       "  'cik': '0000320193',\n",
       "  'isin': 'US0378331005',\n",
       "  'cusip': '037833100',\n",
       "  'exchange': 'NASDAQ Global Select',\n",
       "  'exchangeShortName': 'NASDAQ',\n",
       "  'industry': 'Consumer Electronics',\n",
       "  'website': 'https://www.apple.com',\n",
       "  'description': 'Apple Inc. designs, manufactures, and markets smartphones, personal computers, tablets, wearables, and accessories worldwide. It also sells various related services. In addition, the company offers iPhone, a line of smartphones; Mac, a line of personal computers; iPad, a line of multi-purpose tablets; and wearables, home, and accessories comprising AirPods, Apple TV, Apple Watch, Beats products, and HomePod. Further, it provides AppleCare support and cloud services store services; and operates various platforms, including the App Store that allow customers to discover and download applications and digital content, such as books, music, video, games, and podcasts. Additionally, the company offers various services, such as Apple Arcade, a game subscription service; Apple Fitness+, a personalized fitness service; Apple Music, which offers users a curated listening experience with on-demand radio stations; Apple News+, a subscription news and magazine service; Apple TV+, which offers exclusive original content; Apple Card, a co-branded credit card; and Apple Pay, a cashless payment service, as well as licenses its intellectual property. The company serves consumers, and small and mid-sized businesses; and the education, enterprise, and government markets. It distributes third-party applications for its products through the App Store. The company also sells its products through its retail and online stores, and direct sales force; and third-party cellular network carriers, wholesalers, retailers, and resellers. Apple Inc. was incorporated in 1977 and is headquartered in Cupertino, California.',\n",
       "  'ceo': 'Mr. Timothy Cook',\n",
       "  'sector': 'Technology',\n",
       "  'country': 'US',\n",
       "  'fullTimeEmployees': '164000',\n",
       "  'phone': '14089961010',\n",
       "  'address': '1 Apple Park Way',\n",
       "  'city': 'Cupertino',\n",
       "  'state': 'CALIFORNIA',\n",
       "  'zip': '95014',\n",
       "  'dcfDiff': 2.07176,\n",
       "  'dcf': 148.942,\n",
       "  'image': 'https://financialmodelingprep.com/image-stock/AAPL.png',\n",
       "  'ipoDate': '1980-12-12',\n",
       "  'defaultImage': False,\n",
       "  'isEtf': False,\n",
       "  'isActivelyTrading': True,\n",
       "  'isAdr': False,\n",
       "  'isFund': False}]"
      ]
     },
     "execution_count": 35,
     "metadata": {},
     "output_type": "execute_result"
    }
   ],
   "source": [
    "url = (\"https://financialmodelingprep.com/api/v3/profile/AAPL?apikey=43349811e3f55406d7fa78d6bc8f2298\")\n",
    "get_jsonparsed_data(url) "
   ]
  },
  {
   "cell_type": "code",
   "execution_count": null,
   "metadata": {},
   "outputs": [],
   "source": []
  }
 ],
 "metadata": {
  "kernelspec": {
   "display_name": "dataproject",
   "language": "python",
   "name": "dataproject"
  },
  "language_info": {
   "codemirror_mode": {
    "name": "ipython",
    "version": 3
   },
   "file_extension": ".py",
   "mimetype": "text/x-python",
   "name": "python",
   "nbconvert_exporter": "python",
   "pygments_lexer": "ipython3",
   "version": "3.8.11"
  }
 },
 "nbformat": 4,
 "nbformat_minor": 2
}
