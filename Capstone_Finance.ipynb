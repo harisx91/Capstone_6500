{
 "cells": [
  {
   "cell_type": "markdown",
   "metadata": {},
   "source": [
    "Challenge: There were numerous project around stock market that I could have done my research on, but I came up with top 2 projects that stuck to me the most. "
   ]
  },
  {
   "cell_type": "markdown",
   "metadata": {},
   "source": [
    "Here are two ways I can take my capstone project: \n",
    "\n",
    "1)Sentiment analysis of news articles: Use natural language processing to analyze news articles related to a particular stock or market trends and identify patterns of positive or negative sentiment that may affect stock prices.\n",
    " \n",
    "2)Stock portfolio optimization: Use portfolio optimization techniques to develop a model that recommends the optimal combination of stocks to maximize returns while minimizing risks."
   ]
  },
  {
   "cell_type": "markdown",
   "metadata": {},
   "source": [
    "### I like to explore steps for developing a model to optimize stock portfolios:"
   ]
  },
  {
   "cell_type": "markdown",
   "metadata": {},
   "source": [
    "## Steps: \n",
    "\n",
    "1.Data collection: Collect historical stock prices, financial statements, and other relevant data for a set of stocks that you are interested in analyzing. You can use various financial data sources or APIs to collect the data. Assets you want to include in the portfolio, such as stocks, bonds, or mutual funds. This data typically includes daily or weekly prices, dividends, earnings, and other fundamental data. You can collect this data from various financial data sources or APIs, such as Yahoo Finance, Alpha Vantage, or Quandl.\n",
    "\n",
    "2.Data cleaning and preprocessing: Clean the data to remove missing values, outliers, and any other inconsistencies. Preprocess the data by computing returns, volatility, and other risk measures.\n",
    "\n",
    "3.Asset allocation: Decide on the number of stocks to include in the portfolio and determine the weights for each stock.\n",
    "\n",
    "4.Risk assessment: Calculate the risk measures, such as volatility, standard deviation, and covariance, to assess the risk of the portfolio.\n",
    "\n",
    "5.Portfolio optimization: Use optimization techniques, such as Markowitz portfolio theory or linear programming, to find the optimal combination of stocks that maximizes the expected return of the portfolio while minimizing the risk.\n",
    "\n",
    "6.Performance evaluation: Evaluate the performance of the optimized portfolio using different performance metrics, such as Sharpe ratio, Treynor ratio, or Jensen's alpha, and compare it with the performance of the benchmark portfolio.\n",
    "\n",
    "7.Portfolio rebalancing: Regularly monitor the portfolio performance and adjust the portfolio weights based on market conditions, changes in risk, and other factors.\n",
    "\n",
    "8.Visualizations: Create visualizations to display the results and insights of your portfolio optimization project, such as a risk-return trade-off graph, efficient frontier chart, or Monte Carlo simulations.\n",
    "\n",
    "Overview: Portfolio optimization is a complex and evolving field, and there are many variations of portfolio optimization techniques. Therefore, it is important to understand the assumptions and limitations of the selected optimization technique and evaluate the performance of the optimized portfolio under different scenarios."
   ]
  },
  {
   "cell_type": "markdown",
   "metadata": {},
   "source": [
    "All the ways I can collect data: \n",
    "    \n",
    "Data collection is a crucial step in portfolio optimization as it provides the foundation for the analysis and optimization of the portfolio. Here are some key data sources and types of data that we can collect for portfolio optimization:\n",
    "\n",
    "1.Asset Data: Collect data on the assets you want to include in the portfolio, such as stocks, bonds, or mutual funds. This data typically includes daily or weekly prices, dividends, earnings, and other fundamental data. You can collect this data from various financial data sources or APIs, such as Yahoo Finance, Alpha Vantage, or Quandl.\n",
    "\n",
    "2.Market Data: Collect data on the overall market or benchmark index that you want to compare your portfolio to. This data typically includes daily or weekly prices, market capitalization, and other market indicators. You can collect this data from financial data sources or APIs, such as the S&P 500, Dow Jones, or NASDAQ.\n",
    "\n",
    "3.Economic Data: Collect data on macroeconomic factors, such as interest rates, inflation, GDP growth, or unemployment rate, that can affect the performance of the assets in the portfolio. You can collect this data from various economic data sources or APIs, such as the World Bank or FRED.\n",
    "\n",
    "4.Alternative Data: Collect alternative data that can provide additional insights into the performance and risk of the assets, such as news sentiment analysis, social media data, or weather data. You can collect this data from various alternative data sources or APIs, such as Google Trends, Twitter, or Weather API.\n",
    "\n",
    "5.Historical Data: Collect historical data for a sufficient period to calculate the risk and return measures of the assets and portfolio. The recommended period depends on the asset class and the optimization technique used, but generally, a minimum of three years of historical data is recommended.\n",
    "\n",
    "Overview: Remember, the quality and accuracy of the data are critical to the success of the portfolio optimization project. Therefore, it is important to perform data cleaning, preprocessing, and validation to ensure that the data is consistent, complete, and accurate."
   ]
  },
  {
   "cell_type": "code",
   "execution_count": 66,
   "metadata": {},
   "outputs": [
    {
     "name": "stdout",
     "output_type": "stream",
     "text": [
      "Requirement already satisfied: fmp_python in /Users/harisx91/anaconda3/lib/python3.6/site-packages (0.1.4)\n",
      "Requirement already satisfied: pandas in /Users/harisx91/anaconda3/lib/python3.6/site-packages (from fmp_python) (1.0.5)\n",
      "Requirement already satisfied: requests in /Users/harisx91/anaconda3/lib/python3.6/site-packages (from fmp_python) (2.24.0)\n",
      "Requirement already satisfied: pytz>=2017.2 in /Users/harisx91/anaconda3/lib/python3.6/site-packages (from pandas->fmp_python) (2018.4)\n",
      "Requirement already satisfied: numpy>=1.13.3 in /Users/harisx91/anaconda3/lib/python3.6/site-packages (from pandas->fmp_python) (1.19.5)\n",
      "Requirement already satisfied: python-dateutil>=2.6.1 in /Users/harisx91/anaconda3/lib/python3.6/site-packages (from pandas->fmp_python) (2.7.3)\n",
      "Requirement already satisfied: six>=1.5 in /Users/harisx91/anaconda3/lib/python3.6/site-packages (from python-dateutil>=2.6.1->pandas->fmp_python) (1.15.0)\n",
      "Requirement already satisfied: idna<3,>=2.5 in /Users/harisx91/anaconda3/lib/python3.6/site-packages (from requests->fmp_python) (2.6)\n",
      "Requirement already satisfied: urllib3!=1.25.0,!=1.25.1,<1.26,>=1.21.1 in /Users/harisx91/anaconda3/lib/python3.6/site-packages (from requests->fmp_python) (1.22)\n",
      "Requirement already satisfied: chardet<4,>=3.0.2 in /Users/harisx91/anaconda3/lib/python3.6/site-packages (from requests->fmp_python) (3.0.4)\n",
      "Requirement already satisfied: certifi>=2017.4.17 in /Users/harisx91/anaconda3/lib/python3.6/site-packages (from requests->fmp_python) (2021.5.30)\n",
      "\u001b[33mWARNING: You are using pip version 21.2.4; however, version 21.3.1 is available.\n",
      "You should consider upgrading via the '/Users/harisx91/anaconda3/bin/python -m pip install --upgrade pip' command.\u001b[0m\n"
     ]
    }
   ],
   "source": [
    "!pip install fmp_python"
   ]
  },
  {
   "cell_type": "code",
   "execution_count": 66,
   "metadata": {},
   "outputs": [],
   "source": [
    "# Other libraries\n",
    "import numpy as np\n",
    "import pandas as pd\n",
    "import matplotlib.pyplot as plt\n",
    "import json\n",
    "from urllib.request import urlopen\n",
    "# Main script\n",
    "from financeAPI import *"
   ]
  },
  {
   "cell_type": "code",
   "execution_count": 67,
   "metadata": {},
   "outputs": [],
   "source": [
    "url = 'https://financialmodelingprep.com/api/v4/institutional-ownership/institutional-holders/symbol-ownership-percent?date=2021-09-30&symbol=AAPL&page=0&apikey=43349811e3f55406d7fa78d6bc8f2298'"
   ]
  },
  {
   "cell_type": "code",
   "execution_count": 68,
   "metadata": {},
   "outputs": [],
   "source": [
    "with open('Secret_Key.json') as f:\n",
    "    key = f.read()"
   ]
  },
  {
   "cell_type": "code",
   "execution_count": 69,
   "metadata": {},
   "outputs": [],
   "source": [
    "f = FinanceAPI()"
   ]
  },
  {
   "cell_type": "code",
   "execution_count": 70,
   "metadata": {},
   "outputs": [],
   "source": [
    "##from fmp_python.fmp import FMP\n",
    "\n",
    "##fmp = FMP(api_key='YOUR_API_KEY')\n",
    "##fmp.get_quote('AAL')"
   ]
  },
  {
   "cell_type": "code",
   "execution_count": 71,
   "metadata": {},
   "outputs": [
    {
     "name": "stdout",
     "output_type": "stream",
     "text": [
      "This is a finance API class.\n",
      "\n"
     ]
    }
   ],
   "source": [
    "print(f)"
   ]
  },
  {
   "cell_type": "markdown",
   "metadata": {},
   "source": [
    "We can not build a data dictionary without registering the key"
   ]
  },
  {
   "cell_type": "code",
   "execution_count": 72,
   "metadata": {},
   "outputs": [
    {
     "name": "stdout",
     "output_type": "stream",
     "text": [
      "API key not registered yet.\n"
     ]
    }
   ],
   "source": [
    "f.build_dict('AAPL')"
   ]
  },
  {
   "cell_type": "markdown",
   "metadata": {},
   "source": [
    "### Register the key"
   ]
  },
  {
   "cell_type": "code",
   "execution_count": 73,
   "metadata": {},
   "outputs": [],
   "source": [
    "f.registerKey_(key)"
   ]
  },
  {
   "cell_type": "markdown",
   "metadata": {},
   "source": [
    "### Build the data dictionary for Apple stock"
   ]
  },
  {
   "cell_type": "code",
   "execution_count": 1,
   "metadata": {},
   "outputs": [],
   "source": [
    "###f.available_data('profile')"
   ]
  },
  {
   "cell_type": "code",
   "execution_count": 2,
   "metadata": {},
   "outputs": [],
   "source": [
    "###apple_dict=f.build_dict('AAPL')"
   ]
  },
  {
   "cell_type": "markdown",
   "metadata": {},
   "source": [
    "## Browse through the dictionary"
   ]
  },
  {
   "cell_type": "code",
   "execution_count": 5,
   "metadata": {},
   "outputs": [],
   "source": [
    "####for k,v in apple_dict.items():\n",
    "####    print(\"{}: {}\".format(k,v))"
   ]
  },
  {
   "cell_type": "code",
   "execution_count": null,
   "metadata": {},
   "outputs": [],
   "source": []
  },
  {
   "cell_type": "code",
   "execution_count": null,
   "metadata": {},
   "outputs": [],
   "source": []
  },
  {
   "cell_type": "code",
   "execution_count": null,
   "metadata": {},
   "outputs": [],
   "source": []
  },
  {
   "cell_type": "code",
   "execution_count": null,
   "metadata": {},
   "outputs": [],
   "source": []
  },
  {
   "cell_type": "code",
   "execution_count": null,
   "metadata": {},
   "outputs": [],
   "source": []
  },
  {
   "cell_type": "code",
   "execution_count": null,
   "metadata": {},
   "outputs": [],
   "source": []
  },
  {
   "cell_type": "code",
   "execution_count": 55,
   "metadata": {},
   "outputs": [],
   "source": [
    "import json"
   ]
  },
  {
   "cell_type": "code",
   "execution_count": 56,
   "metadata": {},
   "outputs": [],
   "source": [
    "try:\n",
    "        from urllib.request import urlopen\n",
    "except ImportError:\n",
    "    from urllib2 import urlopen"
   ]
  },
  {
   "cell_type": "code",
   "execution_count": 57,
   "metadata": {},
   "outputs": [],
   "source": [
    "def get_jsonparsed_data(url):\n",
    "    \"\"\"\n",
    "    Receive the content of ``url``, parse it as JSON and return the object.\n",
    "\n",
    "    Parameters\n",
    "    ----------\n",
    "    url : str\n",
    "\n",
    "    Returns\n",
    "    -------\n",
    "    dict\n",
    "    \"\"\"\n",
    "    response = urlopen(url)\n",
    "    data = response.read().decode(\"utf-8\")\n",
    "    return json.loads(data)"
   ]
  },
  {
   "cell_type": "code",
   "execution_count": 58,
   "metadata": {},
   "outputs": [
    {
     "data": {
      "text/plain": [
       "[{'symbol': 'AAPL',\n",
       "  'price': 149.835,\n",
       "  'beta': 1.297088,\n",
       "  'volAvg': 72857838,\n",
       "  'mktCap': 2370674352937,\n",
       "  'lastDiv': 0.92,\n",
       "  'range': '124.17-179.61',\n",
       "  'changes': -0.755,\n",
       "  'companyName': 'Apple Inc.',\n",
       "  'currency': 'USD',\n",
       "  'cik': '0000320193',\n",
       "  'isin': 'US0378331005',\n",
       "  'cusip': '037833100',\n",
       "  'exchange': 'NASDAQ Global Select',\n",
       "  'exchangeShortName': 'NASDAQ',\n",
       "  'industry': 'Consumer Electronics',\n",
       "  'website': 'https://www.apple.com',\n",
       "  'description': 'Apple Inc. designs, manufactures, and markets smartphones, personal computers, tablets, wearables, and accessories worldwide. It also sells various related services. In addition, the company offers iPhone, a line of smartphones; Mac, a line of personal computers; iPad, a line of multi-purpose tablets; AirPods Max, an over-ear wireless headphone; and wearables, home, and accessories comprising AirPods, Apple TV, Apple Watch, Beats products, HomePod, and iPod touch. Further, it provides AppleCare support services; cloud services store services; and operates various platforms, including the App Store that allow customers to discover and download applications and digital content, such as books, music, video, games, and podcasts. Additionally, the company offers various services, such as Apple Arcade, a game subscription service; Apple Music, which offers users a curated listening experience with on-demand radio stations; Apple News+, a subscription news and magazine service; Apple TV+, which offers exclusive original content; Apple Card, a co-branded credit card; and Apple Pay, a cashless payment service, as well as licenses its intellectual property. The company serves consumers, and small and mid-sized businesses; and the education, enterprise, and government markets. It distributes third-party applications for its products through the App Store. The company also sells its products through its retail and online stores, and direct sales force; and third-party cellular network carriers, wholesalers, retailers, and resellers. Apple Inc. was incorporated in 1977 and is headquartered in Cupertino, California.',\n",
       "  'ceo': 'Mr. Timothy D. Cook',\n",
       "  'sector': 'Technology',\n",
       "  'country': 'US',\n",
       "  'fullTimeEmployees': '164000',\n",
       "  'phone': '408 996 1010',\n",
       "  'address': 'One Apple Park Way',\n",
       "  'city': 'Cupertino',\n",
       "  'state': 'CA',\n",
       "  'zip': '95014',\n",
       "  'dcfDiff': 4.15176,\n",
       "  'dcf': 150.082,\n",
       "  'image': 'https://financialmodelingprep.com/image-stock/AAPL.png',\n",
       "  'ipoDate': '1980-12-12',\n",
       "  'defaultImage': False,\n",
       "  'isEtf': False,\n",
       "  'isActivelyTrading': True,\n",
       "  'isAdr': False,\n",
       "  'isFund': False}]"
      ]
     },
     "execution_count": 58,
     "metadata": {},
     "output_type": "execute_result"
    }
   ],
   "source": [
    "url = (\"https://financialmodelingprep.com/api/v3/profile/AAPL?apikey=43349811e3f55406d7fa78d6bc8f2298\")\n",
    "get_jsonparsed_data(url) "
   ]
  },
  {
   "cell_type": "code",
   "execution_count": 63,
   "metadata": {},
   "outputs": [],
   "source": [
    "#Loading the Data from Github Repository\n",
    "username = \"harisx91\"\n",
    "path = \"DataScience_DAV6150_Fall2021/main/Final_Project/stock_prices.csv\"\n",
    "df = pd.read_csv(f'https://raw.githubusercontent.com/{username}/{path}')"
   ]
  },
  {
   "cell_type": "code",
   "execution_count": 64,
   "metadata": {},
   "outputs": [
    {
     "data": {
      "text/html": [
       "<div>\n",
       "<style scoped>\n",
       "    .dataframe tbody tr th:only-of-type {\n",
       "        vertical-align: middle;\n",
       "    }\n",
       "\n",
       "    .dataframe tbody tr th {\n",
       "        vertical-align: top;\n",
       "    }\n",
       "\n",
       "    .dataframe thead th {\n",
       "        text-align: right;\n",
       "    }\n",
       "</style>\n",
       "<table border=\"1\" class=\"dataframe\">\n",
       "  <thead>\n",
       "    <tr style=\"text-align: right;\">\n",
       "      <th></th>\n",
       "      <th>Date</th>\n",
       "      <th>Open</th>\n",
       "      <th>High</th>\n",
       "      <th>Low</th>\n",
       "      <th>Close</th>\n",
       "      <th>Adj Close</th>\n",
       "      <th>Volume</th>\n",
       "    </tr>\n",
       "  </thead>\n",
       "  <tbody>\n",
       "    <tr>\n",
       "      <th>0</th>\n",
       "      <td>2016-01-04</td>\n",
       "      <td>25.652500</td>\n",
       "      <td>26.342501</td>\n",
       "      <td>25.500000</td>\n",
       "      <td>26.337500</td>\n",
       "      <td>24.364536</td>\n",
       "      <td>270597600</td>\n",
       "    </tr>\n",
       "    <tr>\n",
       "      <th>1</th>\n",
       "      <td>2016-01-05</td>\n",
       "      <td>26.437500</td>\n",
       "      <td>26.462500</td>\n",
       "      <td>25.602501</td>\n",
       "      <td>25.677500</td>\n",
       "      <td>23.753977</td>\n",
       "      <td>223164000</td>\n",
       "    </tr>\n",
       "    <tr>\n",
       "      <th>2</th>\n",
       "      <td>2016-01-06</td>\n",
       "      <td>25.139999</td>\n",
       "      <td>25.592501</td>\n",
       "      <td>24.967501</td>\n",
       "      <td>25.174999</td>\n",
       "      <td>23.289116</td>\n",
       "      <td>273829600</td>\n",
       "    </tr>\n",
       "    <tr>\n",
       "      <th>3</th>\n",
       "      <td>2016-01-07</td>\n",
       "      <td>24.670000</td>\n",
       "      <td>25.032499</td>\n",
       "      <td>24.107500</td>\n",
       "      <td>24.112499</td>\n",
       "      <td>22.306208</td>\n",
       "      <td>324377600</td>\n",
       "    </tr>\n",
       "    <tr>\n",
       "      <th>4</th>\n",
       "      <td>2016-01-08</td>\n",
       "      <td>24.637501</td>\n",
       "      <td>24.777500</td>\n",
       "      <td>24.190001</td>\n",
       "      <td>24.240000</td>\n",
       "      <td>22.424154</td>\n",
       "      <td>283192000</td>\n",
       "    </tr>\n",
       "  </tbody>\n",
       "</table>\n",
       "</div>"
      ],
      "text/plain": [
       "         Date       Open       High        Low      Close  Adj Close  \\\n",
       "0  2016-01-04  25.652500  26.342501  25.500000  26.337500  24.364536   \n",
       "1  2016-01-05  26.437500  26.462500  25.602501  25.677500  23.753977   \n",
       "2  2016-01-06  25.139999  25.592501  24.967501  25.174999  23.289116   \n",
       "3  2016-01-07  24.670000  25.032499  24.107500  24.112499  22.306208   \n",
       "4  2016-01-08  24.637501  24.777500  24.190001  24.240000  22.424154   \n",
       "\n",
       "      Volume  \n",
       "0  270597600  \n",
       "1  223164000  \n",
       "2  273829600  \n",
       "3  324377600  \n",
       "4  283192000  "
      ]
     },
     "execution_count": 64,
     "metadata": {},
     "output_type": "execute_result"
    }
   ],
   "source": [
    "df.head()"
   ]
  },
  {
   "cell_type": "code",
   "execution_count": 6,
   "metadata": {},
   "outputs": [],
   "source": [
    "###f.available_data('profile')"
   ]
  },
  {
   "cell_type": "code",
   "execution_count": null,
   "metadata": {},
   "outputs": [],
   "source": []
  }
 ],
 "metadata": {
  "kernelspec": {
   "display_name": "Python 3.8.9 64-bit",
   "language": "python",
   "name": "python3"
  },
  "language_info": {
   "codemirror_mode": {
    "name": "ipython",
    "version": 3
   },
   "file_extension": ".py",
   "mimetype": "text/x-python",
   "name": "python",
   "nbconvert_exporter": "python",
   "pygments_lexer": "ipython3",
   "version": "3.8.9"
  },
  "vscode": {
   "interpreter": {
    "hash": "31f2aee4e71d21fbe5cf8b01ff0e069b9275f58929596ceb00d14d90e3e16cd6"
   }
  }
 },
 "nbformat": 4,
 "nbformat_minor": 2
}
